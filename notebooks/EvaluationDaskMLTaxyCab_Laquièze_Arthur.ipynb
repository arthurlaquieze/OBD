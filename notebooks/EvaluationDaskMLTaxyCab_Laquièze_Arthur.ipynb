{
 "cells": [
  {
   "cell_type": "markdown",
   "id": "5080c7e1",
   "metadata": {},
   "source": [
    "# Welcome to the OBD SDD BE!\n",
    "\n",
    "Today, the goal is to understand how a distributed system can be useful when dealing with medium to large scale data sets.  \n",
    "We'll see that Dask start to be nice as soon as the Data we need to process doesn't quite fit in memory, but also if we\n",
    "need to launch several computations in parallel.\n",
    "\n",
    "In this evaluation, you will:\n",
    "- Use Dask to read and understand the several gigabytes input dataset in a interactive way,\n",
    "- Preprocess the data in a distributed way: cleaning it up and adding some useful features,\n",
    "- Launch some model training that can be parallelized on a big dataset,\n",
    "- Reduce the dataset and train more accurate models on less Data,\n",
    "- Do an hyper parameter search to find the best model on a small sample of Data.\n",
    "\n",
    "In order to run and fill this notebook, you'll need to first deploy a Dask enabled Kubernetes cluster as seen before. So please use the Kubernetes_DaskHub notebook for the steps to do it.\n",
    "\n",
    "Once the Jupyterhub is up, you can clone the OBD repository from a Jupyterlab terminal to get this notebook, and select the default kernel.\n",
    "```\n",
    "git clone https://github.com/SupaeroDataScience/OBD.git\n",
    "cd OBD/notebooks\n",
    "```"
   ]
  },
  {
   "cell_type": "markdown",
   "id": "9a9f615b",
   "metadata": {},
   "source": [
    "## The Dataset\n",
    "\n",
    "It is some statistics about NY Taxi cabs. \n",
    "\n",
    "See https://www.kaggle.com/c/new-york-city-taxi-fare-prediction/overview, or https://www.kaggle.com/c/new-york-city-taxi-fare-prediction/data.\n",
    "        \n",
    "The goal of this evaluation will be to generate a model using machine learning algorithms that will predict the fare amount\n",
    "of a taxi ride given the other input parameters we have.\n",
    "\n",
    "The model will be evaluated using the Root mean squared error algorithm:  \n",
    "https://www.kaggle.com/c/new-york-city-taxi-fare-prediction/overview/evaluation."
   ]
  },
  {
   "cell_type": "markdown",
   "id": "255611eb",
   "metadata": {},
   "source": [
    "## Try to analyze the Data using Kaggles' start-up code\n",
    "\n",
    "As an introduction, we'll use Kaggle starters' code to get some insights on the data set and\n",
    "computations we'll do and measure pandas library (non parallelized access and process) performance.\n",
    "\n",
    "See https://www.kaggle.com/dster/nyc-taxi-fare-starter-kernel-simple-linear-model where this comes from.\n",
    "\n",
    "This Kaggle method will set the bar to beat with our own tools. I'm sure you can do it."
   ]
  },
  {
   "cell_type": "markdown",
   "id": "61175e73",
   "metadata": {},
   "source": [
    "#### Reading the data with pandas\n",
    "\n",
    "We're reading only about 20% from the whole data set."
   ]
  },
  {
   "cell_type": "code",
   "execution_count": 1,
   "id": "e6a9896e",
   "metadata": {},
   "outputs": [
    {
     "name": "stdout",
     "output_type": "stream",
     "text": [
      "CPU times: user 25 s, sys: 3.77 s, total: 28.7 s\n",
      "Wall time: 45 s\n"
     ]
    },
    {
     "data": {
      "text/plain": [
       "key                   object\n",
       "fare_amount          float64\n",
       "pickup_datetime       object\n",
       "pickup_longitude     float64\n",
       "pickup_latitude      float64\n",
       "dropoff_longitude    float64\n",
       "dropoff_latitude     float64\n",
       "passenger_count        int64\n",
       "dtype: object"
      ]
     },
     "execution_count": 1,
     "metadata": {},
     "output_type": "execute_result"
    }
   ],
   "source": [
    "%%time\n",
    "import pandas as pd\n",
    "train_df =  pd.read_csv('gs://obd-dask23/train.csv', nrows = 10_000_000)\n",
    "train_df.dtypes"
   ]
  },
  {
   "cell_type": "markdown",
   "id": "2df98a8b",
   "metadata": {},
   "source": [
    "#### Analysing dataset, adding some features and droping null values\n",
    "\n",
    "Let's see if we can see some correlation between passengers count and fare amount?"
   ]
  },
  {
   "cell_type": "code",
   "execution_count": 2,
   "id": "4f584bf2",
   "metadata": {},
   "outputs": [
    {
     "name": "stdout",
     "output_type": "stream",
     "text": [
      "CPU times: user 177 ms, sys: 16.8 ms, total: 194 ms\n",
      "Wall time: 191 ms\n"
     ]
    },
    {
     "data": {
      "text/plain": [
       "passenger_count\n",
       "0       9.047261\n",
       "1      11.216596\n",
       "2      11.800345\n",
       "3      11.536788\n",
       "4      11.754418\n",
       "5      11.218924\n",
       "6      12.141258\n",
       "7      36.582500\n",
       "8      32.665000\n",
       "9      37.366667\n",
       "34     13.300000\n",
       "51      9.300000\n",
       "129     8.500000\n",
       "208    11.140000\n",
       "Name: fare_amount, dtype: float64"
      ]
     },
     "execution_count": 2,
     "metadata": {},
     "output_type": "execute_result"
    }
   ],
   "source": [
    "%%time\n",
    "train_df.groupby(train_df.passenger_count).fare_amount.mean()"
   ]
  },
  {
   "cell_type": "markdown",
   "id": "c6623ecc",
   "metadata": {},
   "source": [
    "Maybe adding some features about the distance of the trip could be a good idea?"
   ]
  },
  {
   "cell_type": "code",
   "execution_count": 4,
   "id": "a8b70ee5",
   "metadata": {},
   "outputs": [
    {
     "name": "stdout",
     "output_type": "stream",
     "text": [
      "CPU times: user 128 ms, sys: 95.3 ms, total: 223 ms\n",
      "Wall time: 222 ms\n"
     ]
    }
   ],
   "source": [
    "%%time\n",
    "# 'abs_diff_longitude' 'abs_diff_latitude' reprensenting the \"Manhattan vector\" from\n",
    "# the pickup location to the dropoff location.\n",
    "def add_travel_vector_features(df):\n",
    "    df['abs_diff_longitude'] = (df.dropoff_longitude - df.pickup_longitude).abs()\n",
    "    df['abs_diff_latitude'] = (df.dropoff_latitude - df.pickup_latitude).abs()\n",
    "\n",
    "add_travel_vector_features(train_df)"
   ]
  },
  {
   "cell_type": "markdown",
   "id": "df8c6ca0",
   "metadata": {},
   "source": [
    "Are there some undefined values?"
   ]
  },
  {
   "cell_type": "code",
   "execution_count": 5,
   "id": "01248590",
   "metadata": {},
   "outputs": [
    {
     "name": "stdout",
     "output_type": "stream",
     "text": [
      "key                    0\n",
      "fare_amount            0\n",
      "pickup_datetime        0\n",
      "pickup_longitude       0\n",
      "pickup_latitude        0\n",
      "dropoff_longitude     74\n",
      "dropoff_latitude      74\n",
      "passenger_count        0\n",
      "abs_diff_longitude    74\n",
      "abs_diff_latitude     74\n",
      "dtype: int64\n",
      "CPU times: user 1.15 s, sys: 13.9 ms, total: 1.16 s\n",
      "Wall time: 1.16 s\n"
     ]
    }
   ],
   "source": [
    "%%time\n",
    "print(train_df.isnull().sum())"
   ]
  },
  {
   "cell_type": "markdown",
   "id": "92ec78ab",
   "metadata": {},
   "source": [
    "We want to get rid of them."
   ]
  },
  {
   "cell_type": "code",
   "execution_count": 6,
   "id": "4bcb7f00",
   "metadata": {},
   "outputs": [
    {
     "name": "stdout",
     "output_type": "stream",
     "text": [
      "Old size: 10000000\n",
      "New size: 9999926\n",
      "CPU times: user 2.07 s, sys: 705 ms, total: 2.77 s\n",
      "Wall time: 2.77 s\n"
     ]
    }
   ],
   "source": [
    "%%time\n",
    "print('Old size: %d' % len(train_df))\n",
    "train_df = train_df.dropna(how = 'any', axis = 'rows')\n",
    "print('New size: %d' % len(train_df))"
   ]
  },
  {
   "cell_type": "markdown",
   "id": "0bc2cd37",
   "metadata": {},
   "source": [
    "#### Quick analyze on new features and clean outliers"
   ]
  },
  {
   "cell_type": "code",
   "execution_count": 7,
   "id": "c501c429",
   "metadata": {},
   "outputs": [
    {
     "name": "stdout",
     "output_type": "stream",
     "text": [
      "CPU times: user 311 ms, sys: 51.7 ms, total: 363 ms\n",
      "Wall time: 314 ms\n"
     ]
    },
    {
     "data": {
      "image/png": "[encoded data removed]",
      "text/plain": [
       "<Figure size 432x288 with 1 Axes>"
      ]
     },
     "metadata": {
      "needs_background": "light"
     },
     "output_type": "display_data"
    }
   ],
   "source": [
    "%%time\n",
    "plot = train_df.iloc[:2000].plot.scatter('abs_diff_longitude', 'abs_diff_latitude')"
   ]
  },
  {
   "cell_type": "markdown",
   "id": "5dc1a641",
   "metadata": {},
   "source": [
    "70 degrees longitude seems a bit too high..."
   ]
  },
  {
   "cell_type": "code",
   "execution_count": 8,
   "id": "0ac95e8c",
   "metadata": {},
   "outputs": [
    {
     "name": "stdout",
     "output_type": "stream",
     "text": [
      "Old size: 9999926\n",
      "New size: 9979189\n",
      "CPU times: user 494 ms, sys: 180 ms, total: 674 ms\n",
      "Wall time: 670 ms\n"
     ]
    }
   ],
   "source": [
    "%%time\n",
    "print('Old size: %d' % len(train_df))\n",
    "train_df = train_df[(train_df.abs_diff_longitude < 5.0) & (train_df.abs_diff_latitude < 5.0)]\n",
    "print('New size: %d' % len(train_df))"
   ]
  },
  {
   "cell_type": "markdown",
   "id": "4d3a4eea",
   "metadata": {},
   "source": [
    "#### Get training features and results"
   ]
  },
  {
   "cell_type": "code",
   "execution_count": 9,
   "id": "f1ca5802",
   "metadata": {},
   "outputs": [
    {
     "name": "stdout",
     "output_type": "stream",
     "text": [
      "(9979189, 3)\n",
      "(9979189,)\n",
      "CPU times: user 104 ms, sys: 48.1 ms, total: 152 ms\n",
      "Wall time: 150 ms\n"
     ]
    }
   ],
   "source": [
    "%%time\n",
    "import numpy as np\n",
    "\n",
    "# using the travel vector, plus a 1.0 for a constant bias term.\n",
    "def get_input_matrix(df):\n",
    "    return np.column_stack((df.abs_diff_longitude, df.abs_diff_latitude, np.ones(len(df))))\n",
    "\n",
    "train_X = get_input_matrix(train_df)\n",
    "train_y = np.array(train_df['fare_amount'])\n",
    "\n",
    "print(train_X.shape)\n",
    "print(train_y.shape)"
   ]
  },
  {
   "cell_type": "markdown",
   "id": "836ce60e",
   "metadata": {},
   "source": [
    "#### Train a simple linear model using Numpy"
   ]
  },
  {
   "cell_type": "code",
   "execution_count": 10,
   "id": "a4d698bc",
   "metadata": {},
   "outputs": [
    {
     "name": "stdout",
     "output_type": "stream",
     "text": [
      "[148.48697     74.73346376   6.41299165]\n",
      "CPU times: user 884 ms, sys: 607 ms, total: 1.49 s\n",
      "Wall time: 793 ms\n"
     ]
    }
   ],
   "source": [
    "%%time\n",
    "# The lstsq function returns several things, and we only care about the actual weight vector w.\n",
    "(w, _, _, _) = np.linalg.lstsq(train_X, train_y, rcond = None)\n",
    "print(w)"
   ]
  },
  {
   "cell_type": "markdown",
   "id": "0b46de57",
   "metadata": {},
   "source": [
    "#### Make prediction on our test set and measure performance"
   ]
  },
  {
   "cell_type": "code",
   "execution_count": 11,
   "id": "cab29b36",
   "metadata": {},
   "outputs": [
    {
     "data": {
      "text/plain": [
       "key                   object\n",
       "fare_amount          float64\n",
       "pickup_datetime       object\n",
       "pickup_longitude     float64\n",
       "pickup_latitude      float64\n",
       "dropoff_longitude    float64\n",
       "dropoff_latitude     float64\n",
       "passenger_count        int64\n",
       "dtype: object"
      ]
     },
     "execution_count": 11,
     "metadata": {},
     "output_type": "execute_result"
    }
   ],
   "source": [
    "test_df =  pd.read_csv('gs://obd-dask23/test.csv')\n",
    "test_df.dtypes"
   ]
  },
  {
   "cell_type": "code",
   "execution_count": 12,
   "id": "a6c9d292",
   "metadata": {},
   "outputs": [],
   "source": [
    "add_travel_vector_features(test_df)\n",
    "test_X = get_input_matrix(test_df)"
   ]
  },
  {
   "cell_type": "code",
   "execution_count": 13,
   "id": "a5cf989d",
   "metadata": {},
   "outputs": [],
   "source": [
    "test_y_predictions = np.matmul(test_X, w).round(decimals = 2)"
   ]
  },
  {
   "cell_type": "code",
   "execution_count": 14,
   "id": "83a1d0d0",
   "metadata": {},
   "outputs": [],
   "source": [
    "test_y_ref = test_df.fare_amount"
   ]
  },
  {
   "cell_type": "code",
   "execution_count": 15,
   "id": "b22f5728",
   "metadata": {},
   "outputs": [
    {
     "data": {
      "text/plain": [
       "702.0855518225254"
      ]
     },
     "execution_count": 15,
     "metadata": {},
     "output_type": "execute_result"
    }
   ],
   "source": [
    "from sklearn.metrics import mean_squared_error\n",
    "mean_squared_error(test_y_ref, test_y_predictions, squared=False)"
   ]
  },
  {
   "cell_type": "markdown",
   "id": "d78fdd59",
   "metadata": {},
   "source": [
    "<span style=\"color:#EB5E0B;font-style:italic\">\n",
    "\n",
    "### Some questions on this first Analysis\n",
    "\n",
    "- What is the most expensive part of the analysis, the one that takes the most time (see the %%time we used above)?\n",
    "</span>"
   ]
  },
  {
   "cell_type": "markdown",
   "id": "80641da8",
   "metadata": {},
   "source": [
    "Loading the dataset takes the most time, with 20+ seconds, as 2 or 3GB have to be loaded in memory<br>\n",
    "The 2nd most expensive part is the dropna part, as it has to go through every cell of the dataframe."
   ]
  },
  {
   "cell_type": "markdown",
   "id": "a4e331b7",
   "metadata": {},
   "source": [
    "<span style=\"color:#EB5E0B;font-style:italic\">\n",
    "    \n",
    "- Try to load the whole dataset with Pandas and comment what happens. Can you explain why?\n",
    "</span>"
   ]
  },
  {
   "cell_type": "code",
   "execution_count": null,
   "id": "681130fc",
   "metadata": {},
   "outputs": [],
   "source": [
    "del train_df\n",
    "del train_df_whole"
   ]
  },
  {
   "cell_type": "code",
   "execution_count": null,
   "id": "42190bfa",
   "metadata": {},
   "outputs": [],
   "source": [
    "%%time\n",
    "train_df_whole =  pd.read_csv('gs://obd-dask23/train.csv')"
   ]
  },
  {
   "cell_type": "markdown",
   "id": "17eb2f9a",
   "metadata": {},
   "source": [
    "When we try to load the whole dataset the kernel crashes.<br>\n",
    "The reason is that our cluster with 1 node is trying to allocate more than the allowed 15GB: we can see the memory going over the allowed 15GB for our cluster with 1 node as pandas is loading the dataset in the RAM."
   ]
  },
  {
   "cell_type": "markdown",
   "id": "f478f17c",
   "metadata": {},
   "source": [
    "# Processing our data set using Dask\n",
    "\n",
    "Dask will help us process all the input data set at once. It is really useful when input data is too big to fit in memory. In this case, it can stream the computation by data chunks on one computer, or distribute the computation on several computers.\n",
    "\n",
    "This is what we'll do next!"
   ]
  },
  {
   "cell_type": "markdown",
   "id": "12c22aeb",
   "metadata": {},
   "source": [
    "### Start an appropriately sized Dask cluster for our analysis\n",
    "\n",
    "We'll need a Dask cluster to pre process the data and distribute some learning, the following code starts one in our K8S infrastructure.\n",
    "\n",
    "**Be sure to have the worker-spec.yaml file next to this notebook.** This should be the case if you cloned the repository."
   ]
  },
  {
   "cell_type": "code",
   "execution_count": 1,
   "id": "62d7d4b6",
   "metadata": {},
   "outputs": [
    {
     "data": {
      "text/plain": [
       "<dask.config.set at 0x7fa2b00382b0>"
      ]
     },
     "execution_count": 1,
     "metadata": {},
     "output_type": "execute_result"
    }
   ],
   "source": [
    "import dask\n",
    "import dask.distributed  # populate config with distributed defaults\n",
    "import dask_kubernetes\n",
    "\n",
    "dask.config.set({\"kubernetes.worker-template-path\": \"worker-spec.yaml\"})\n",
    "dask.config.set({\"distributed.dashboard.link\": \"{JUPYTERHUB_SERVICE_PREFIX}proxy/{port}/status\"})"
   ]
  },
  {
   "cell_type": "code",
   "execution_count": 2,
   "id": "51af9392",
   "metadata": {},
   "outputs": [
    {
     "name": "stderr",
     "output_type": "stream",
     "text": [
      "distributed.scheduler - INFO - Clear task state\n",
      "distributed.scheduler - INFO -   Scheduler at:    tcp://10.80.0.28:46475\n",
      "distributed.scheduler - INFO -   dashboard at:                     :8787\n"
     ]
    },
    {
     "data": {
      "application/vnd.jupyter.widget-view+json": {
       "model_id": "571da097b712454ca7e2352d1e0e7441",
       "version_major": 2,
       "version_minor": 0
      },
      "text/plain": [
       "Tab(children=(HTML(value='<div class=\"jp-RenderedHTMLCommon jp-RenderedHTML jp-mod-trusted jp-OutputArea-outpu…"
      ]
     },
     "metadata": {},
     "output_type": "display_data"
    }
   ],
   "source": [
    "from dask_kubernetes import KubeCluster\n",
    "\n",
    "cluster = KubeCluster(deploy_mode='local') # Scheduler is started in the notebook process\n",
    "cluster"
   ]
  },
  {
   "cell_type": "markdown",
   "id": "95a329c1",
   "metadata": {},
   "source": [
    "__Please click on the Dashboard link above, it will help you a lot!__"
   ]
  },
  {
   "cell_type": "code",
   "execution_count": 3,
   "id": "f38dac5f",
   "metadata": {},
   "outputs": [],
   "source": [
    "cluster.scale(10)"
   ]
  },
  {
   "cell_type": "code",
   "execution_count": 4,
   "id": "0f33cbc8",
   "metadata": {},
   "outputs": [
    {
     "name": "stderr",
     "output_type": "stream",
     "text": [
      "distributed.scheduler - INFO - Receive client connection: Client-d8343d35-bdb1-11ed-813c-65129f6d7a2e\n",
      "distributed.core - INFO - Starting established connection\n"
     ]
    },
    {
     "data": {
      "text/html": [
       "<div>\n",
       "    <div style=\"width: 24px; height: 24px; background-color: #e1e1e1; border: 3px solid #9D9D9D; border-radius: 5px; position: absolute;\"> </div>\n",
       "    <div style=\"margin-left: 48px;\">\n",
       "        <h3 style=\"margin-bottom: 0px;\">Client</h3>\n",
       "        <p style=\"color: #9D9D9D; margin-bottom: 0px;\">Client-d8343d35-bdb1-11ed-813c-65129f6d7a2e</p>\n",
       "        <table style=\"width: 100%; text-align: left;\">\n",
       "\n",
       "        <tr>\n",
       "        \n",
       "            <td style=\"text-align: left;\"><strong>Connection method:</strong> Cluster object</td>\n",
       "            <td style=\"text-align: left;\"><strong>Cluster type:</strong> dask_kubernetes.KubeCluster</td>\n",
       "        \n",
       "        </tr>\n",
       "\n",
       "        \n",
       "            <tr>\n",
       "                <td style=\"text-align: left;\">\n",
       "                    <strong>Dashboard: </strong> <a href=\"/user/arthur.laquieze@gmail.com/proxy/8787/status\" target=\"_blank\">/user/arthur.laquieze@gmail.com/proxy/8787/status</a>\n",
       "                </td>\n",
       "                <td style=\"text-align: left;\"></td>\n",
       "            </tr>\n",
       "        \n",
       "\n",
       "        </table>\n",
       "\n",
       "        \n",
       "            <details>\n",
       "            <summary style=\"margin-bottom: 20px;\"><h3 style=\"display: inline;\">Cluster Info</h3></summary>\n",
       "            <div class=\"jp-RenderedHTMLCommon jp-RenderedHTML jp-mod-trusted jp-OutputArea-output\">\n",
       "    <div style=\"width: 24px; height: 24px; background-color: #e1e1e1; border: 3px solid #9D9D9D; border-radius: 5px; position: absolute;\">\n",
       "    </div>\n",
       "    <div style=\"margin-left: 48px;\">\n",
       "        <h3 style=\"margin-bottom: 0px; margin-top: 0px;\">KubeCluster</h3>\n",
       "        <p style=\"color: #9D9D9D; margin-bottom: 0px;\">dask-jovyan-a48025c5-0</p>\n",
       "        <table style=\"width: 100%; text-align: left;\">\n",
       "            <tr>\n",
       "                <td style=\"text-align: left;\">\n",
       "                    <strong>Dashboard:</strong> <a href=\"/user/arthur.laquieze@gmail.com/proxy/8787/status\" target=\"_blank\">/user/arthur.laquieze@gmail.com/proxy/8787/status</a>\n",
       "                </td>\n",
       "                <td style=\"text-align: left;\">\n",
       "                    <strong>Workers:</strong> 0\n",
       "                </td>\n",
       "            </tr>\n",
       "            <tr>\n",
       "                <td style=\"text-align: left;\">\n",
       "                    <strong>Total threads:</strong> 0\n",
       "                </td>\n",
       "                <td style=\"text-align: left;\">\n",
       "                    <strong>Total memory:</strong> 0 B\n",
       "                </td>\n",
       "            </tr>\n",
       "            \n",
       "        </table>\n",
       "\n",
       "        <details>\n",
       "            <summary style=\"margin-bottom: 20px;\">\n",
       "                <h3 style=\"display: inline;\">Scheduler Info</h3>\n",
       "            </summary>\n",
       "\n",
       "            <div style=\"\">\n",
       "    <div>\n",
       "        <div style=\"width: 24px; height: 24px; background-color: #FFF7E5; border: 3px solid #FF6132; border-radius: 5px; position: absolute;\"> </div>\n",
       "        <div style=\"margin-left: 48px;\">\n",
       "            <h3 style=\"margin-bottom: 0px;\">Scheduler</h3>\n",
       "            <p style=\"color: #9D9D9D; margin-bottom: 0px;\">Scheduler-e3cefc74-7146-4f00-acd7-43e843fdf7a9</p>\n",
       "            <table style=\"width: 100%; text-align: left;\">\n",
       "                <tr>\n",
       "                    <td style=\"text-align: left;\">\n",
       "                        <strong>Comm:</strong> tcp://10.80.0.28:46475\n",
       "                    </td>\n",
       "                    <td style=\"text-align: left;\">\n",
       "                        <strong>Workers:</strong> 0\n",
       "                    </td>\n",
       "                </tr>\n",
       "                <tr>\n",
       "                    <td style=\"text-align: left;\">\n",
       "                        <strong>Dashboard:</strong> <a href=\"/user/arthur.laquieze@gmail.com/proxy/8787/status\" target=\"_blank\">/user/arthur.laquieze@gmail.com/proxy/8787/status</a>\n",
       "                    </td>\n",
       "                    <td style=\"text-align: left;\">\n",
       "                        <strong>Total threads:</strong> 0\n",
       "                    </td>\n",
       "                </tr>\n",
       "                <tr>\n",
       "                    <td style=\"text-align: left;\">\n",
       "                        <strong>Started:</strong> Just now\n",
       "                    </td>\n",
       "                    <td style=\"text-align: left;\">\n",
       "                        <strong>Total memory:</strong> 0 B\n",
       "                    </td>\n",
       "                </tr>\n",
       "            </table>\n",
       "        </div>\n",
       "    </div>\n",
       "\n",
       "    <details style=\"margin-left: 48px;\">\n",
       "        <summary style=\"margin-bottom: 20px;\">\n",
       "            <h3 style=\"display: inline;\">Workers</h3>\n",
       "        </summary>\n",
       "\n",
       "        \n",
       "\n",
       "    </details>\n",
       "</div>\n",
       "\n",
       "        </details>\n",
       "    </div>\n",
       "</div>\n",
       "            </details>\n",
       "        \n",
       "\n",
       "    </div>\n",
       "</div>"
      ],
      "text/plain": [
       "<Client: 'tcp://10.80.0.28:46475' processes=0 threads=0, memory=0 B>"
      ]
     },
     "execution_count": 4,
     "metadata": {},
     "output_type": "execute_result"
    },
    {
     "name": "stderr",
     "output_type": "stream",
     "text": [
      "distributed.scheduler - INFO - Register worker <WorkerState 'tcp://10.80.4.14:40641', name: 7, status: undefined, memory: 0, processing: 0>\n",
      "distributed.scheduler - INFO - Starting worker compute stream, tcp://10.80.4.14:40641\n",
      "distributed.core - INFO - Starting established connection\n",
      "distributed.scheduler - INFO - Register worker <WorkerState 'tcp://10.80.3.15:38353', name: 8, status: undefined, memory: 0, processing: 0>\n",
      "distributed.scheduler - INFO - Starting worker compute stream, tcp://10.80.3.15:38353\n",
      "distributed.core - INFO - Starting established connection\n"
     ]
    }
   ],
   "source": [
    "from distributed import Client\n",
    "\n",
    "client = Client(cluster)\n",
    "client"
   ]
  },
  {
   "cell_type": "markdown",
   "id": "992aba71",
   "metadata": {},
   "source": [
    "### Launch some computation, what about Pi?\n",
    "\n",
    "Just to check our cluster is working!\n",
    "\n",
    "We'll use Dask array, a Numpy extension for this, we'll also use it later on for the Machine Learning part of this evaluation."
   ]
  },
  {
   "cell_type": "code",
   "execution_count": 5,
   "id": "893cedb6",
   "metadata": {},
   "outputs": [
    {
     "name": "stderr",
     "output_type": "stream",
     "text": [
      "distributed.scheduler - INFO - Register worker <WorkerState 'tcp://10.80.5.8:40037', name: 9, status: undefined, memory: 0, processing: 0>\n",
      "distributed.scheduler - INFO - Starting worker compute stream, tcp://10.80.5.8:40037\n",
      "distributed.core - INFO - Starting established connection\n",
      "distributed.scheduler - INFO - Register worker <WorkerState 'tcp://10.80.1.8:38579', name: 5, status: undefined, memory: 0, processing: 0>\n",
      "distributed.scheduler - INFO - Starting worker compute stream, tcp://10.80.1.8:38579\n",
      "distributed.core - INFO - Starting established connection\n",
      "distributed.scheduler - INFO - Register worker <WorkerState 'tcp://10.80.2.8:41769', name: 3, status: undefined, memory: 0, processing: 0>\n",
      "distributed.scheduler - INFO - Starting worker compute stream, tcp://10.80.2.8:41769\n",
      "distributed.core - INFO - Starting established connection\n",
      "distributed.scheduler - INFO - Register worker <WorkerState 'tcp://10.80.2.9:45885', name: 0, status: undefined, memory: 0, processing: 0>\n",
      "distributed.scheduler - INFO - Starting worker compute stream, tcp://10.80.2.9:45885\n",
      "distributed.core - INFO - Starting established connection\n",
      "distributed.scheduler - INFO - Register worker <WorkerState 'tcp://10.80.0.30:45741', name: 1, status: undefined, memory: 0, processing: 0>\n",
      "distributed.scheduler - INFO - Starting worker compute stream, tcp://10.80.0.30:45741\n",
      "distributed.core - INFO - Starting established connection\n",
      "distributed.scheduler - INFO - Register worker <WorkerState 'tcp://10.80.5.9:41639', name: 6, status: undefined, memory: 0, processing: 0>\n",
      "distributed.scheduler - INFO - Starting worker compute stream, tcp://10.80.5.9:41639\n",
      "distributed.core - INFO - Starting established connection\n",
      "distributed.scheduler - INFO - Register worker <WorkerState 'tcp://10.80.1.9:39289', name: 2, status: undefined, memory: 0, processing: 0>\n",
      "distributed.scheduler - INFO - Starting worker compute stream, tcp://10.80.1.9:39289\n",
      "distributed.core - INFO - Starting established connection\n",
      "distributed.scheduler - INFO - Register worker <WorkerState 'tcp://10.80.4.15:38407', name: 4, status: undefined, memory: 0, processing: 0>\n",
      "distributed.scheduler - INFO - Starting worker compute stream, tcp://10.80.4.15:38407\n",
      "distributed.core - INFO - Starting established connection\n"
     ]
    },
    {
     "name": "stdout",
     "output_type": "stream",
     "text": [
      "pi ~= 3.1416072544\n",
      "CPU times: user 21.4 s, sys: 1.69 s, total: 23.1 s\n",
      "Wall time: 51.1 s\n"
     ]
    }
   ],
   "source": [
    "%%time\n",
    "import dask.array as da\n",
    "\n",
    "sample = 10_000_000_000  # <- this is huge!\n",
    "xxyy = da.random.uniform(-1, 1, size=(2, sample))\n",
    "norm = da.linalg.norm(xxyy, axis=0)\n",
    "summ = da.sum(norm <= 1)\n",
    "insiders = summ.compute()\n",
    "pi = 4 * insiders / sample\n",
    "print(\"pi ~= {}\".format(pi))"
   ]
  },
  {
   "cell_type": "markdown",
   "id": "fbc0fd7e",
   "metadata": {},
   "source": [
    "## Now, access the data of our BE using Dask\n",
    "\n",
    "We'll use Dask Dataframe, a distributed version of Pandas Dataframe.\n",
    "\n",
    "Remember, Dask shares the same API as Pandas.\n",
    "\n",
    "See https://docs.dask.org/en/latest/dataframe.html.\n",
    "\n",
    "<br>\n",
    "<span style=\"color:#EB5E0B;font-style:italic\">\n",
    "So instead of using Pandas to load the dataset, just use the equivalent dask method from dask.dataframe.\n",
    "\n",
    "- Fill the following cell (the second one) with the appropriate code to read the data using Dask.\n",
    "</span>"
   ]
  },
  {
   "cell_type": "code",
   "execution_count": 6,
   "id": "0e2fe6e2",
   "metadata": {},
   "outputs": [],
   "source": [
    "import dask.dataframe as dd"
   ]
  },
  {
   "cell_type": "code",
   "execution_count": 7,
   "id": "6905e21e",
   "metadata": {},
   "outputs": [
    {
     "name": "stdout",
     "output_type": "stream",
     "text": [
      "CPU times: user 1.22 s, sys: 112 ms, total: 1.33 s\n",
      "Wall time: 9.25 s\n"
     ]
    }
   ],
   "source": [
    "%%time\n",
    "## Answer needed here\n",
    "train_df = dd.read_csv('gs://obd-dask23/train.csv')"
   ]
  },
  {
   "cell_type": "code",
   "execution_count": 8,
   "id": "178c1003",
   "metadata": {},
   "outputs": [
    {
     "name": "stdout",
     "output_type": "stream",
     "text": [
      "CPU times: user 4 µs, sys: 0 ns, total: 4 µs\n",
      "Wall time: 7.63 µs\n"
     ]
    },
    {
     "data": {
      "text/html": [
       "<div><strong>Dask DataFrame Structure:</strong></div>\n",
       "<div>\n",
       "<style scoped>\n",
       "    .dataframe tbody tr th:only-of-type {\n",
       "        vertical-align: middle;\n",
       "    }\n",
       "\n",
       "    .dataframe tbody tr th {\n",
       "        vertical-align: top;\n",
       "    }\n",
       "\n",
       "    .dataframe thead th {\n",
       "        text-align: right;\n",
       "    }\n",
       "</style>\n",
       "<table border=\"1\" class=\"dataframe\">\n",
       "  <thead>\n",
       "    <tr style=\"text-align: right;\">\n",
       "      <th></th>\n",
       "      <th>key</th>\n",
       "      <th>fare_amount</th>\n",
       "      <th>pickup_datetime</th>\n",
       "      <th>pickup_longitude</th>\n",
       "      <th>pickup_latitude</th>\n",
       "      <th>dropoff_longitude</th>\n",
       "      <th>dropoff_latitude</th>\n",
       "      <th>passenger_count</th>\n",
       "    </tr>\n",
       "    <tr>\n",
       "      <th>npartitions=90</th>\n",
       "      <th></th>\n",
       "      <th></th>\n",
       "      <th></th>\n",
       "      <th></th>\n",
       "      <th></th>\n",
       "      <th></th>\n",
       "      <th></th>\n",
       "      <th></th>\n",
       "    </tr>\n",
       "  </thead>\n",
       "  <tbody>\n",
       "    <tr>\n",
       "      <th></th>\n",
       "      <td>object</td>\n",
       "      <td>float64</td>\n",
       "      <td>object</td>\n",
       "      <td>float64</td>\n",
       "      <td>float64</td>\n",
       "      <td>float64</td>\n",
       "      <td>float64</td>\n",
       "      <td>int64</td>\n",
       "    </tr>\n",
       "    <tr>\n",
       "      <th></th>\n",
       "      <td>...</td>\n",
       "      <td>...</td>\n",
       "      <td>...</td>\n",
       "      <td>...</td>\n",
       "      <td>...</td>\n",
       "      <td>...</td>\n",
       "      <td>...</td>\n",
       "      <td>...</td>\n",
       "    </tr>\n",
       "    <tr>\n",
       "      <th>...</th>\n",
       "      <td>...</td>\n",
       "      <td>...</td>\n",
       "      <td>...</td>\n",
       "      <td>...</td>\n",
       "      <td>...</td>\n",
       "      <td>...</td>\n",
       "      <td>...</td>\n",
       "      <td>...</td>\n",
       "    </tr>\n",
       "    <tr>\n",
       "      <th></th>\n",
       "      <td>...</td>\n",
       "      <td>...</td>\n",
       "      <td>...</td>\n",
       "      <td>...</td>\n",
       "      <td>...</td>\n",
       "      <td>...</td>\n",
       "      <td>...</td>\n",
       "      <td>...</td>\n",
       "    </tr>\n",
       "    <tr>\n",
       "      <th></th>\n",
       "      <td>...</td>\n",
       "      <td>...</td>\n",
       "      <td>...</td>\n",
       "      <td>...</td>\n",
       "      <td>...</td>\n",
       "      <td>...</td>\n",
       "      <td>...</td>\n",
       "      <td>...</td>\n",
       "    </tr>\n",
       "  </tbody>\n",
       "</table>\n",
       "</div>\n",
       "<div>Dask Name: read-csv, 90 tasks</div>"
      ],
      "text/plain": [
       "Dask DataFrame Structure:\n",
       "                   key fare_amount pickup_datetime pickup_longitude pickup_latitude dropoff_longitude dropoff_latitude passenger_count\n",
       "npartitions=90                                                                                                                        \n",
       "                object     float64          object          float64         float64           float64          float64           int64\n",
       "                   ...         ...             ...              ...             ...               ...              ...             ...\n",
       "...                ...         ...             ...              ...             ...               ...              ...             ...\n",
       "                   ...         ...             ...              ...             ...               ...              ...             ...\n",
       "                   ...         ...             ...              ...             ...               ...              ...             ...\n",
       "Dask Name: read-csv, 90 tasks"
      ]
     },
     "execution_count": 8,
     "metadata": {},
     "output_type": "execute_result"
    }
   ],
   "source": [
    "%%time\n",
    "train_df"
   ]
  },
  {
   "cell_type": "markdown",
   "id": "143c5362",
   "metadata": {},
   "source": [
    "<span style=\"color:#EB5E0B;font-style:italic\">\n",
    "\n",
    "### Some questions about this data loading\n",
    "\n",
    "- That was fast for several gigabytes, wasn't it? Why is this, did we really load all the data?\n",
    "- Why the returned dataframe looks empty?\n",
    "- See the number of partitions described above? What does it correspond to? (hint, look at the blocksize parameter from https://docs.dask.org/en/latest/generated/dask.dataframe.read_csv.html). You might also get a more precise idea of what this number corresponds to with the next code execution.\n",
    "</span>"
   ]
  },
  {
   "cell_type": "markdown",
   "id": "b1f9404f",
   "metadata": {},
   "source": [
    "- that was fast: as dask.dataframe is lazy it does not actually load the data from the CSV, only the columns, dtypes etc.\n",
    "- the returned dataframe looks empty as it's not loaded in memory yet. To do that you have to use .compute()\n",
    "- the partition is the number of pieces / chunks the whole dataframe has been divided into. We have 90 chunks and a dataset of 5.7GB, so each block is 5.7GB / 90 = 64MB, which is exactly the maximum auto-computed blocksize as stated by the documentation."
   ]
  },
  {
   "cell_type": "markdown",
   "id": "6834c674",
   "metadata": {},
   "source": [
    "## Little warm up: Analyzing our data to better understand it"
   ]
  },
  {
   "cell_type": "markdown",
   "id": "c8cc8f8e",
   "metadata": {},
   "source": [
    "<span style=\"color:#EB5E0B;font-style:italic\">\n",
    "\n",
    "- First, how many records do we have? (hint, in python, len() works for almost any object).\n",
    "</span>"
   ]
  },
  {
   "cell_type": "code",
   "execution_count": 17,
   "id": "f5c47835",
   "metadata": {
    "scrolled": true
   },
   "outputs": [
    {
     "name": "stdout",
     "output_type": "stream",
     "text": [
      "CPU times: user 2.88 s, sys: 234 ms, total: 3.11 s\n",
      "Wall time: 12.6 s\n"
     ]
    },
    {
     "data": {
      "text/plain": [
       "55413856"
      ]
     },
     "execution_count": 17,
     "metadata": {},
     "output_type": "execute_result"
    }
   ],
   "source": [
    "%%time\n",
    "len(train_df)"
   ]
  },
  {
   "cell_type": "markdown",
   "id": "1980192c",
   "metadata": {},
   "source": [
    "<span style=\"color:#EB5E0B;font-style:italic\">\n",
    "    \n",
    "- What did happend when counting record of our Dask dataframe (as opposed to with only the `read_csv` call? Remember with the Spark tutorial: transformations and actions... Same kind of concepts exist in Dask. Just look at the Dask Dashboard!\n",
    "</span>"
   ]
  },
  {
   "cell_type": "markdown",
   "id": "4fd97449",
   "metadata": {},
   "source": [
    "It's taking quite some time calling the \\_\\_len\\_\\_ attribute of the Dask dataframe, as it builds the computation graph and computes it, as opposed to read_csv that only builds the computation graph.<br><br>\n",
    "The computation graph in short: when calling len() the workers have to load the dataset with `s = self.iloc[:, 0] ; return len(s)` for each chunk, thus calling \\_\\_getitem\\_\\_ on each row. Then it aggregates each worker's chunk len, and sums it to have the dataset length. We can see on the dashboard that the \\_\\_getitem\\_\\_ is taking most of the time, as the aggregation is straiteforward."
   ]
  },
  {
   "cell_type": "markdown",
   "id": "668942d8",
   "metadata": {},
   "source": [
    "<span style=\"color:#EB5E0B;font-style:italic\">\n",
    "    \n",
    "- Compare the time of this computation to the time of loading a subset of the Dataset with Pandas. Was it fast enough considering the number of workers we have?\n",
    "    \n",
    "I recommend trying to calculate an estimation of the time it would take with Pandas to read the entire dataset, and **total processing** time (not only the walltime) it took for every dask workers.\n",
    "</span>"
   ]
  },
  {
   "cell_type": "code",
   "execution_count": 9,
   "id": "d396862e",
   "metadata": {},
   "outputs": [],
   "source": [
    "import pandas as pd"
   ]
  },
  {
   "cell_type": "code",
   "execution_count": 26,
   "id": "e34ac9bb",
   "metadata": {},
   "outputs": [
    {
     "name": "stdout",
     "output_type": "stream",
     "text": [
      "CPU times: user 29 s, sys: 4 s, total: 33 s\n",
      "Wall time: 37.5 s\n"
     ]
    }
   ],
   "source": [
    "%%time\n",
    "train_df_pandas =  pd.read_csv('gs://obd-dask23/train.csv', nrows = 10_000_000)"
   ]
  },
  {
   "cell_type": "code",
   "execution_count": 27,
   "id": "b3d0fc92",
   "metadata": {},
   "outputs": [
    {
     "name": "stdout",
     "output_type": "stream",
     "text": [
      "CPU times: user 22 µs, sys: 1e+03 ns, total: 23 µs\n",
      "Wall time: 27.7 µs\n"
     ]
    },
    {
     "data": {
      "text/plain": [
       "10000000"
      ]
     },
     "execution_count": 27,
     "metadata": {},
     "output_type": "execute_result"
    }
   ],
   "source": [
    "%%time\n",
    "train_df_pandas.__len__()"
   ]
  },
  {
   "cell_type": "markdown",
   "id": "c502f49f",
   "metadata": {},
   "source": [
    "As the time to compute len on a loaded pd dataframe is negligeable, let's assume most of the time would be taken by loading it.<br>\n",
    "Dask took 12.5s with 10 workers and 20 threads (at maximum), thus the equivalent time with one worker would be 250s. We would expect pandas to take the same time to load the dataset.<br>\n",
    "Pandas takes 37.5s to load ~10/55 of the dataset on one thread, so we can expect it to take 206s to load the whole dataset and compute the length.<br><br>\n",
    "So dask was clearly fast enough, loosing only 42s - 20% of total processing time over pandas, while having to aggregate and managing the workers that cannot be busy at all time, especially at the end of the computation."
   ]
  },
  {
   "cell_type": "markdown",
   "id": "e1e0f615",
   "metadata": {},
   "source": [
    "Let's have a look at some data:"
   ]
  },
  {
   "cell_type": "code",
   "execution_count": 10,
   "id": "1cba28ad",
   "metadata": {},
   "outputs": [
    {
     "name": "stdout",
     "output_type": "stream",
     "text": [
      "CPU times: user 513 ms, sys: 45.4 ms, total: 559 ms\n",
      "Wall time: 3.15 s\n"
     ]
    },
    {
     "data": {
      "text/html": [
       "<div>\n",
       "<style scoped>\n",
       "    .dataframe tbody tr th:only-of-type {\n",
       "        vertical-align: middle;\n",
       "    }\n",
       "\n",
       "    .dataframe tbody tr th {\n",
       "        vertical-align: top;\n",
       "    }\n",
       "\n",
       "    .dataframe thead th {\n",
       "        text-align: right;\n",
       "    }\n",
       "</style>\n",
       "<table border=\"1\" class=\"dataframe\">\n",
       "  <thead>\n",
       "    <tr style=\"text-align: right;\">\n",
       "      <th></th>\n",
       "      <th>key</th>\n",
       "      <th>fare_amount</th>\n",
       "      <th>pickup_datetime</th>\n",
       "      <th>pickup_longitude</th>\n",
       "      <th>pickup_latitude</th>\n",
       "      <th>dropoff_longitude</th>\n",
       "      <th>dropoff_latitude</th>\n",
       "      <th>passenger_count</th>\n",
       "    </tr>\n",
       "  </thead>\n",
       "  <tbody>\n",
       "    <tr>\n",
       "      <th>0</th>\n",
       "      <td>2014-10-12 23:47:39.0000002</td>\n",
       "      <td>9.00</td>\n",
       "      <td>2014-10-12 23:47:39 UTC</td>\n",
       "      <td>-73.973863</td>\n",
       "      <td>40.764248</td>\n",
       "      <td>-73.986874</td>\n",
       "      <td>40.736618</td>\n",
       "      <td>1</td>\n",
       "    </tr>\n",
       "    <tr>\n",
       "      <th>1</th>\n",
       "      <td>2012-08-17 22:34:00.000000118</td>\n",
       "      <td>4.10</td>\n",
       "      <td>2012-08-17 22:34:00 UTC</td>\n",
       "      <td>-73.997062</td>\n",
       "      <td>40.722330</td>\n",
       "      <td>-73.997642</td>\n",
       "      <td>40.729135</td>\n",
       "      <td>1</td>\n",
       "    </tr>\n",
       "    <tr>\n",
       "      <th>2</th>\n",
       "      <td>2011-05-17 13:11:00.000000229</td>\n",
       "      <td>9.70</td>\n",
       "      <td>2011-05-17 13:11:00 UTC</td>\n",
       "      <td>-74.000002</td>\n",
       "      <td>40.727167</td>\n",
       "      <td>-73.984253</td>\n",
       "      <td>40.753135</td>\n",
       "      <td>2</td>\n",
       "    </tr>\n",
       "    <tr>\n",
       "      <th>3</th>\n",
       "      <td>2015-03-08 09:10:25.0000005</td>\n",
       "      <td>57.33</td>\n",
       "      <td>2015-03-08 09:10:25 UTC</td>\n",
       "      <td>-74.004166</td>\n",
       "      <td>40.737652</td>\n",
       "      <td>-73.795753</td>\n",
       "      <td>40.644497</td>\n",
       "      <td>2</td>\n",
       "    </tr>\n",
       "    <tr>\n",
       "      <th>4</th>\n",
       "      <td>2010-03-27 19:54:44.0000001</td>\n",
       "      <td>7.30</td>\n",
       "      <td>2010-03-27 19:54:44 UTC</td>\n",
       "      <td>-73.990309</td>\n",
       "      <td>40.751309</td>\n",
       "      <td>-73.980597</td>\n",
       "      <td>40.761481</td>\n",
       "      <td>1</td>\n",
       "    </tr>\n",
       "  </tbody>\n",
       "</table>\n",
       "</div>"
      ],
      "text/plain": [
       "                             key  fare_amount          pickup_datetime  \\\n",
       "0    2014-10-12 23:47:39.0000002         9.00  2014-10-12 23:47:39 UTC   \n",
       "1  2012-08-17 22:34:00.000000118         4.10  2012-08-17 22:34:00 UTC   \n",
       "2  2011-05-17 13:11:00.000000229         9.70  2011-05-17 13:11:00 UTC   \n",
       "3    2015-03-08 09:10:25.0000005        57.33  2015-03-08 09:10:25 UTC   \n",
       "4    2010-03-27 19:54:44.0000001         7.30  2010-03-27 19:54:44 UTC   \n",
       "\n",
       "   pickup_longitude  pickup_latitude  dropoff_longitude  dropoff_latitude  \\\n",
       "0        -73.973863        40.764248         -73.986874         40.736618   \n",
       "1        -73.997062        40.722330         -73.997642         40.729135   \n",
       "2        -74.000002        40.727167         -73.984253         40.753135   \n",
       "3        -74.004166        40.737652         -73.795753         40.644497   \n",
       "4        -73.990309        40.751309         -73.980597         40.761481   \n",
       "\n",
       "   passenger_count  \n",
       "0                1  \n",
       "1                1  \n",
       "2                2  \n",
       "3                2  \n",
       "4                1  "
      ]
     },
     "execution_count": 10,
     "metadata": {},
     "output_type": "execute_result"
    }
   ],
   "source": [
    "%%time\n",
    "train_df.head()"
   ]
  },
  {
   "cell_type": "markdown",
   "id": "c84867e4",
   "metadata": {},
   "source": [
    "<span style=\"color:#EB5E0B;font-style:italic\">\n",
    "    \n",
    "- Why was it faster than counting all the records above? \n",
    "- What did we actualy read? You might want to look at the Dashboard for some hinsights. Remember that Dask laziness is not only about transformations and actions, but optimizing the computations needed.\n",
    "</span>"
   ]
  },
  {
   "cell_type": "markdown",
   "id": "b4989a05",
   "metadata": {},
   "source": [
    "- It was faster, as when calling the `.head()`, only the worker in charge of the 1st chunk of the data has to load it. \n",
    "- Only the first chunk of the csv was read as that's the only thing needed for `.head()`."
   ]
  },
  {
   "cell_type": "markdown",
   "id": "81342f11",
   "metadata": {},
   "source": [
    "<span style=\"color:#EB5E0B;font-style:italic\">\n",
    "    \n",
    "- Let's compute the mean of the fare amount given the passengers count, **as we've done with Pandas above**. Please fill the blank. (hint: Dask is the same as pandas, but often with a `compute()` call at the end)\n",
    "</span>"
   ]
  },
  {
   "cell_type": "code",
   "execution_count": 19,
   "id": "c56ddf62",
   "metadata": {},
   "outputs": [
    {
     "name": "stdout",
     "output_type": "stream",
     "text": [
      "CPU times: user 4.2 s, sys: 350 ms, total: 4.55 s\n",
      "Wall time: 17.7 s\n"
     ]
    },
    {
     "data": {
      "text/plain": [
       "passenger_count\n",
       "0       9.015400\n",
       "1      11.216398\n",
       "2      11.838426\n",
       "3      11.540684\n",
       "4      11.766121\n",
       "5      11.208482\n",
       "6      12.126306\n",
       "8      29.981111\n",
       "208     8.975000\n",
       "51      9.300000\n",
       "129     8.900000\n",
       "7      31.788667\n",
       "9      36.993043\n",
       "34     13.300000\n",
       "49      2.500000\n",
       "Name: fare_amount, dtype: float64"
      ]
     },
     "execution_count": 19,
     "metadata": {},
     "output_type": "execute_result"
    }
   ],
   "source": [
    "%%time\n",
    "train_df.groupby(train_df.passenger_count).fare_amount.mean().compute()"
   ]
  },
  {
   "cell_type": "markdown",
   "id": "121f1dbf",
   "metadata": {},
   "source": [
    "Wow, ever seen a cab with more than **200 people**?? Americans are crazy. And it's cheap...\n",
    "\n",
    "<br>\n",
    "\n",
    "<span style=\"color:#EB5E0B;font-style:italic\">\n",
    "\n",
    "- This computation is slow, especially compared with Pandas, why? (Look a the Dashboard, again).\n",
    "- Which part of the computation is slow, look at the Dashboard to see the name of the tasks. Hint, this is the same as Pandas.\n",
    "</span>"
   ]
  },
  {
   "cell_type": "markdown",
   "id": "8a2f0b70",
   "metadata": {},
   "source": [
    "- the computation is slow as it has to load the dataset for each task, aggregate the groupby, then run the mean computation, aggregate, ...\n",
    "- The slowest part is the readcsv call that each worker uses to load its chunks."
   ]
  },
  {
   "cell_type": "markdown",
   "id": "5ff37ce7",
   "metadata": {},
   "source": [
    "<span style=\"color:#EB5E0B;font-style:italic\">\n",
    "    \n",
    "- How could we optimize the next computations, using which Dask method? Same as Spark...\n",
    "- Where will be the data at the end of the computation triggered by this call?\n",
    "</span>"
   ]
  },
  {
   "cell_type": "markdown",
   "id": "bc8e12c2",
   "metadata": {},
   "source": [
    "- As with dask we can persit train_df with `train_df.persist()` which will keep the chunks in memory of the workers and avoid reloading the csv each time.\n",
    "- at the end the data will be on the scheduler, which is started in the notebook process"
   ]
  },
  {
   "cell_type": "markdown",
   "id": "49397217",
   "metadata": {},
   "source": [
    "<span style=\"color:#EB5E0B;font-style:italic\">\n",
    "    \n",
    "- Look at the Dashboard at what is happening beind the scene.\n",
    "    \n",
    "Wait for the end of this call on the Dashboard, then try again the previous computation on fare_amout.mean():\n",
    "</span>"
   ]
  },
  {
   "cell_type": "code",
   "execution_count": 11,
   "id": "8a9fa8fb",
   "metadata": {},
   "outputs": [
    {
     "name": "stdout",
     "output_type": "stream",
     "text": [
      "CPU times: user 16.6 ms, sys: 1.97 ms, total: 18.6 ms\n",
      "Wall time: 17.3 ms\n"
     ]
    }
   ],
   "source": [
    "%%time\n",
    "train_df = train_df.persist()"
   ]
  },
  {
   "cell_type": "code",
   "execution_count": 13,
   "id": "f123fe6a",
   "metadata": {},
   "outputs": [
    {
     "name": "stdout",
     "output_type": "stream",
     "text": [
      "CPU times: user 348 ms, sys: 27.6 ms, total: 376 ms\n",
      "Wall time: 411 ms\n"
     ]
    },
    {
     "data": {
      "text/plain": [
       "passenger_count\n",
       "0       9.015400\n",
       "1      11.216398\n",
       "2      11.838426\n",
       "3      11.540684\n",
       "4      11.766121\n",
       "5      11.208482\n",
       "6      12.126306\n",
       "8      29.981111\n",
       "208     8.975000\n",
       "51      9.300000\n",
       "129     8.900000\n",
       "7      31.788667\n",
       "9      36.993043\n",
       "34     13.300000\n",
       "49      2.500000\n",
       "Name: fare_amount, dtype: float64"
      ]
     },
     "execution_count": 13,
     "metadata": {},
     "output_type": "execute_result"
    }
   ],
   "source": [
    "%%time \n",
    "train_df.groupby(train_df.passenger_count).fare_amount.mean().compute()\n"
   ]
  },
  {
   "cell_type": "markdown",
   "id": "ddadf8d3",
   "metadata": {},
   "source": [
    "Much better isn't it?"
   ]
  },
  {
   "cell_type": "markdown",
   "id": "00bf8179",
   "metadata": {},
   "source": [
    "## Let's do some preprocessing of our data to clean it up and add some features\n",
    "\n",
    "<br>\n",
    "\n",
    "<span style=\"color:#EB5E0B;font-style:italic\">\n",
    "- You'll need to do the same operations as in pandas, we just need to call compute when needing a result, and not compute when building our dataframe transformations.\n",
    "</span>"
   ]
  },
  {
   "cell_type": "markdown",
   "id": "6adffd39",
   "metadata": {},
   "source": [
    "<span style=\"color:#EB5E0B;font-style:italic\">\n",
    "\n",
    "#### Cleaning up\n",
    "\n",
    "- Is there some null values in our data?\n",
    "</span>"
   ]
  },
  {
   "cell_type": "code",
   "execution_count": 23,
   "id": "87094762",
   "metadata": {},
   "outputs": [
    {
     "data": {
      "text/html": [
       "<div>\n",
       "<style scoped>\n",
       "    .dataframe tbody tr th:only-of-type {\n",
       "        vertical-align: middle;\n",
       "    }\n",
       "\n",
       "    .dataframe tbody tr th {\n",
       "        vertical-align: top;\n",
       "    }\n",
       "\n",
       "    .dataframe thead th {\n",
       "        text-align: right;\n",
       "    }\n",
       "</style>\n",
       "<table border=\"1\" class=\"dataframe\">\n",
       "  <thead>\n",
       "    <tr style=\"text-align: right;\">\n",
       "      <th></th>\n",
       "      <th>key</th>\n",
       "      <th>fare_amount</th>\n",
       "      <th>pickup_datetime</th>\n",
       "      <th>pickup_longitude</th>\n",
       "      <th>pickup_latitude</th>\n",
       "      <th>dropoff_longitude</th>\n",
       "      <th>dropoff_latitude</th>\n",
       "      <th>passenger_count</th>\n",
       "    </tr>\n",
       "  </thead>\n",
       "  <tbody>\n",
       "    <tr>\n",
       "      <th>0</th>\n",
       "      <td>2014-10-12 23:47:39.0000002</td>\n",
       "      <td>9.00</td>\n",
       "      <td>2014-10-12 23:47:39 UTC</td>\n",
       "      <td>-73.973863</td>\n",
       "      <td>40.764248</td>\n",
       "      <td>-73.986874</td>\n",
       "      <td>40.736618</td>\n",
       "      <td>1</td>\n",
       "    </tr>\n",
       "    <tr>\n",
       "      <th>1</th>\n",
       "      <td>2012-08-17 22:34:00.000000118</td>\n",
       "      <td>4.10</td>\n",
       "      <td>2012-08-17 22:34:00 UTC</td>\n",
       "      <td>-73.997062</td>\n",
       "      <td>40.722330</td>\n",
       "      <td>-73.997642</td>\n",
       "      <td>40.729135</td>\n",
       "      <td>1</td>\n",
       "    </tr>\n",
       "    <tr>\n",
       "      <th>2</th>\n",
       "      <td>2011-05-17 13:11:00.000000229</td>\n",
       "      <td>9.70</td>\n",
       "      <td>2011-05-17 13:11:00 UTC</td>\n",
       "      <td>-74.000002</td>\n",
       "      <td>40.727167</td>\n",
       "      <td>-73.984253</td>\n",
       "      <td>40.753135</td>\n",
       "      <td>2</td>\n",
       "    </tr>\n",
       "    <tr>\n",
       "      <th>3</th>\n",
       "      <td>2015-03-08 09:10:25.0000005</td>\n",
       "      <td>57.33</td>\n",
       "      <td>2015-03-08 09:10:25 UTC</td>\n",
       "      <td>-74.004166</td>\n",
       "      <td>40.737652</td>\n",
       "      <td>-73.795753</td>\n",
       "      <td>40.644497</td>\n",
       "      <td>2</td>\n",
       "    </tr>\n",
       "    <tr>\n",
       "      <th>4</th>\n",
       "      <td>2010-03-27 19:54:44.0000001</td>\n",
       "      <td>7.30</td>\n",
       "      <td>2010-03-27 19:54:44 UTC</td>\n",
       "      <td>-73.990309</td>\n",
       "      <td>40.751309</td>\n",
       "      <td>-73.980597</td>\n",
       "      <td>40.761481</td>\n",
       "      <td>1</td>\n",
       "    </tr>\n",
       "  </tbody>\n",
       "</table>\n",
       "</div>"
      ],
      "text/plain": [
       "                             key  fare_amount          pickup_datetime  \\\n",
       "0    2014-10-12 23:47:39.0000002         9.00  2014-10-12 23:47:39 UTC   \n",
       "1  2012-08-17 22:34:00.000000118         4.10  2012-08-17 22:34:00 UTC   \n",
       "2  2011-05-17 13:11:00.000000229         9.70  2011-05-17 13:11:00 UTC   \n",
       "3    2015-03-08 09:10:25.0000005        57.33  2015-03-08 09:10:25 UTC   \n",
       "4    2010-03-27 19:54:44.0000001         7.30  2010-03-27 19:54:44 UTC   \n",
       "\n",
       "   pickup_longitude  pickup_latitude  dropoff_longitude  dropoff_latitude  \\\n",
       "0        -73.973863        40.764248         -73.986874         40.736618   \n",
       "1        -73.997062        40.722330         -73.997642         40.729135   \n",
       "2        -74.000002        40.727167         -73.984253         40.753135   \n",
       "3        -74.004166        40.737652         -73.795753         40.644497   \n",
       "4        -73.990309        40.751309         -73.980597         40.761481   \n",
       "\n",
       "   passenger_count  \n",
       "0                1  \n",
       "1                1  \n",
       "2                2  \n",
       "3                2  \n",
       "4                1  "
      ]
     },
     "execution_count": 23,
     "metadata": {},
     "output_type": "execute_result"
    }
   ],
   "source": [
    "train_df.head()"
   ]
  },
  {
   "cell_type": "code",
   "execution_count": 16,
   "id": "8fbea246",
   "metadata": {},
   "outputs": [
    {
     "data": {
      "text/plain": [
       "key                  0\n",
       "fare_amount          0\n",
       "pickup_datetime      0\n",
       "pickup_longitude     0\n",
       "pickup_latitude      0\n",
       "dropoff_longitude    0\n",
       "dropoff_latitude     0\n",
       "passenger_count      0\n",
       "dtype: int64"
      ]
     },
     "execution_count": 16,
     "metadata": {},
     "output_type": "execute_result"
    }
   ],
   "source": [
    "## Answer needed here\n",
    "## check after running the cell bellow\n",
    "train_df.isnull().sum().compute()"
   ]
  },
  {
   "cell_type": "markdown",
   "id": "f50fd4c3",
   "metadata": {},
   "source": [
    "<span style=\"color:#EB5E0B;font-style:italic\">\n",
    "    \n",
    "- Yep! We must get rid of them...\n",
    "</span>"
   ]
  },
  {
   "cell_type": "code",
   "execution_count": 15,
   "id": "c2ff9453",
   "metadata": {},
   "outputs": [],
   "source": [
    "## Answer needed here\n",
    "train_df = train_df.dropna(how = 'any').persist()"
   ]
  },
  {
   "cell_type": "markdown",
   "id": "73a1f1b5",
   "metadata": {},
   "source": [
    "#### Adding features\n",
    "\n",
    "<span style=\"color:#EB5E0B;font-style:italic\">\n",
    "\n",
    "- As with Pandas above, add the latitude and longitude distance vector with a function call\n",
    "</span>"
   ]
  },
  {
   "cell_type": "code",
   "execution_count": 17,
   "id": "9a108c7d",
   "metadata": {},
   "outputs": [],
   "source": [
    "## Answer needed here. We define a function here, cause we'll need to apply it on our test dataframe too later on!\n",
    "def add_travel_vector_features(df):\n",
    "    df['abs_diff_longitude'] = (df.dropoff_longitude - df.pickup_longitude).abs().persist()\n",
    "    df['abs_diff_latitude'] = (df.dropoff_latitude - df.pickup_latitude).abs().persist()\n"
   ]
  },
  {
   "cell_type": "code",
   "execution_count": 18,
   "id": "f63fd64d",
   "metadata": {},
   "outputs": [],
   "source": [
    "add_travel_vector_features(train_df)"
   ]
  },
  {
   "cell_type": "markdown",
   "id": "162dafb7",
   "metadata": {},
   "source": [
    "A quick look at our Dataframe to check things"
   ]
  },
  {
   "cell_type": "code",
   "execution_count": 19,
   "id": "13573f87",
   "metadata": {},
   "outputs": [
    {
     "data": {
      "text/html": [
       "<div>\n",
       "<style scoped>\n",
       "    .dataframe tbody tr th:only-of-type {\n",
       "        vertical-align: middle;\n",
       "    }\n",
       "\n",
       "    .dataframe tbody tr th {\n",
       "        vertical-align: top;\n",
       "    }\n",
       "\n",
       "    .dataframe thead th {\n",
       "        text-align: right;\n",
       "    }\n",
       "</style>\n",
       "<table border=\"1\" class=\"dataframe\">\n",
       "  <thead>\n",
       "    <tr style=\"text-align: right;\">\n",
       "      <th></th>\n",
       "      <th>key</th>\n",
       "      <th>fare_amount</th>\n",
       "      <th>pickup_datetime</th>\n",
       "      <th>pickup_longitude</th>\n",
       "      <th>pickup_latitude</th>\n",
       "      <th>dropoff_longitude</th>\n",
       "      <th>dropoff_latitude</th>\n",
       "      <th>passenger_count</th>\n",
       "      <th>abs_diff_longitude</th>\n",
       "      <th>abs_diff_latitude</th>\n",
       "    </tr>\n",
       "  </thead>\n",
       "  <tbody>\n",
       "    <tr>\n",
       "      <th>0</th>\n",
       "      <td>2014-10-12 23:47:39.0000002</td>\n",
       "      <td>9.00</td>\n",
       "      <td>2014-10-12 23:47:39 UTC</td>\n",
       "      <td>-73.973863</td>\n",
       "      <td>40.764248</td>\n",
       "      <td>-73.986874</td>\n",
       "      <td>40.736618</td>\n",
       "      <td>1</td>\n",
       "      <td>0.013011</td>\n",
       "      <td>0.027630</td>\n",
       "    </tr>\n",
       "    <tr>\n",
       "      <th>1</th>\n",
       "      <td>2012-08-17 22:34:00.000000118</td>\n",
       "      <td>4.10</td>\n",
       "      <td>2012-08-17 22:34:00 UTC</td>\n",
       "      <td>-73.997062</td>\n",
       "      <td>40.722330</td>\n",
       "      <td>-73.997642</td>\n",
       "      <td>40.729135</td>\n",
       "      <td>1</td>\n",
       "      <td>0.000580</td>\n",
       "      <td>0.006805</td>\n",
       "    </tr>\n",
       "    <tr>\n",
       "      <th>2</th>\n",
       "      <td>2011-05-17 13:11:00.000000229</td>\n",
       "      <td>9.70</td>\n",
       "      <td>2011-05-17 13:11:00 UTC</td>\n",
       "      <td>-74.000002</td>\n",
       "      <td>40.727167</td>\n",
       "      <td>-73.984253</td>\n",
       "      <td>40.753135</td>\n",
       "      <td>2</td>\n",
       "      <td>0.015749</td>\n",
       "      <td>0.025968</td>\n",
       "    </tr>\n",
       "    <tr>\n",
       "      <th>3</th>\n",
       "      <td>2015-03-08 09:10:25.0000005</td>\n",
       "      <td>57.33</td>\n",
       "      <td>2015-03-08 09:10:25 UTC</td>\n",
       "      <td>-74.004166</td>\n",
       "      <td>40.737652</td>\n",
       "      <td>-73.795753</td>\n",
       "      <td>40.644497</td>\n",
       "      <td>2</td>\n",
       "      <td>0.208412</td>\n",
       "      <td>0.093155</td>\n",
       "    </tr>\n",
       "    <tr>\n",
       "      <th>4</th>\n",
       "      <td>2010-03-27 19:54:44.0000001</td>\n",
       "      <td>7.30</td>\n",
       "      <td>2010-03-27 19:54:44 UTC</td>\n",
       "      <td>-73.990309</td>\n",
       "      <td>40.751309</td>\n",
       "      <td>-73.980597</td>\n",
       "      <td>40.761481</td>\n",
       "      <td>1</td>\n",
       "      <td>0.009712</td>\n",
       "      <td>0.010172</td>\n",
       "    </tr>\n",
       "  </tbody>\n",
       "</table>\n",
       "</div>"
      ],
      "text/plain": [
       "                             key  fare_amount          pickup_datetime  \\\n",
       "0    2014-10-12 23:47:39.0000002         9.00  2014-10-12 23:47:39 UTC   \n",
       "1  2012-08-17 22:34:00.000000118         4.10  2012-08-17 22:34:00 UTC   \n",
       "2  2011-05-17 13:11:00.000000229         9.70  2011-05-17 13:11:00 UTC   \n",
       "3    2015-03-08 09:10:25.0000005        57.33  2015-03-08 09:10:25 UTC   \n",
       "4    2010-03-27 19:54:44.0000001         7.30  2010-03-27 19:54:44 UTC   \n",
       "\n",
       "   pickup_longitude  pickup_latitude  dropoff_longitude  dropoff_latitude  \\\n",
       "0        -73.973863        40.764248         -73.986874         40.736618   \n",
       "1        -73.997062        40.722330         -73.997642         40.729135   \n",
       "2        -74.000002        40.727167         -73.984253         40.753135   \n",
       "3        -74.004166        40.737652         -73.795753         40.644497   \n",
       "4        -73.990309        40.751309         -73.980597         40.761481   \n",
       "\n",
       "   passenger_count  abs_diff_longitude  abs_diff_latitude  \n",
       "0                1            0.013011           0.027630  \n",
       "1                1            0.000580           0.006805  \n",
       "2                2            0.015749           0.025968  \n",
       "3                2            0.208412           0.093155  \n",
       "4                1            0.009712           0.010172  "
      ]
     },
     "execution_count": 19,
     "metadata": {},
     "output_type": "execute_result"
    }
   ],
   "source": [
    "train_df.head()"
   ]
  },
  {
   "cell_type": "markdown",
   "id": "df7cfc5f",
   "metadata": {},
   "source": [
    "<span style=\"color:#EB5E0B;font-style:italic\">\n",
    "    \n",
    "- Now let's quickly plot a subset of our travel vector features to see its distribution. Use dask.dataframe.sample() to get about 1 percent of the rows, and get it back with compute and plot as we've done it with Pandas\n",
    "</span>"
   ]
  },
  {
   "cell_type": "code",
   "execution_count": 20,
   "id": "9d642c6b",
   "metadata": {},
   "outputs": [],
   "source": [
    "import matplotlib.pyplot as plt"
   ]
  },
  {
   "cell_type": "code",
   "execution_count": 21,
   "id": "09f457c6",
   "metadata": {},
   "outputs": [
    {
     "data": {
      "image/png": "[encoded data removed]",
      "text/plain": [
       "<Figure size 432x288 with 1 Axes>"
      ]
     },
     "metadata": {
      "needs_background": "light"
     },
     "output_type": "display_data"
    },
    {
     "name": "stdout",
     "output_type": "stream",
     "text": [
      "CPU times: user 2.9 s, sys: 367 ms, total: 3.27 s\n",
      "Wall time: 3.37 s\n"
     ]
    }
   ],
   "source": [
    "%%time\n",
    "subset_df = train_df.sample(frac=0.01)\n",
    "\n",
    "x, y = subset_df[\"abs_diff_longitude\"], subset_df[\"abs_diff_latitude\"]\n",
    "\n",
    "plt.scatter(x, y)\n",
    "plt.show()"
   ]
  },
  {
   "cell_type": "markdown",
   "id": "36182399",
   "metadata": {},
   "source": [
    "Wow, looks like we have some strange values here: more than 1000° of distance... There's a problem somewhere.\n",
    "\n",
    "<br>\n",
    "\n",
    "<span style=\"color:#EB5E0B;font-style:italic\">\n",
    "- Just get rid of the extreme values, we should keep only values inside the city wall or so. Like with Pandas above...\n",
    "</span>"
   ]
  },
  {
   "cell_type": "code",
   "execution_count": 22,
   "id": "3e3286a7",
   "metadata": {},
   "outputs": [
    {
     "name": "stdout",
     "output_type": "stream",
     "text": [
      "Old size: 55413480\n",
      "New size: 55298943\n",
      "CPU times: user 1.22 s, sys: 71.6 ms, total: 1.29 s\n",
      "Wall time: 2.43 s\n"
     ]
    }
   ],
   "source": [
    "%%time\n",
    "print('Old size: %d' % len(train_df))\n",
    "train_df = train_df[(train_df.abs_diff_longitude < 5.0) & (train_df.abs_diff_latitude < 5.0)].persist()\n",
    "print('New size: %d' % len(train_df))"
   ]
  },
  {
   "cell_type": "markdown",
   "id": "3dfc1f4a",
   "metadata": {},
   "source": [
    "<span style=\"color:#EB5E0B;font-style:italic\">\n",
    "\n",
    "- you can do another plot like above with the filtered values if you like.\n",
    "</span>"
   ]
  },
  {
   "cell_type": "code",
   "execution_count": 23,
   "id": "45edd5d5",
   "metadata": {},
   "outputs": [
    {
     "data": {
      "image/png": "[encoded data removed]",
      "text/plain": [
       "<Figure size 432x288 with 1 Axes>"
      ]
     },
     "metadata": {
      "needs_background": "light"
     },
     "output_type": "display_data"
    }
   ],
   "source": [
    "## Answer needed here\n",
    "subset_df = train_df.sample(frac=0.01)\n",
    "\n",
    "x, y = subset_df[\"abs_diff_longitude\"], subset_df[\"abs_diff_latitude\"]\n",
    "\n",
    "plt.scatter(x, y)\n",
    "plt.show()"
   ]
  },
  {
   "cell_type": "markdown",
   "id": "8a525ada",
   "metadata": {},
   "source": [
    "Ok, let's see some statistics on our Dataset. The describe() function inherited from Pandas compute a lot of statistics on a dataframe."
   ]
  },
  {
   "cell_type": "code",
   "execution_count": 24,
   "id": "d49070ec",
   "metadata": {},
   "outputs": [
    {
     "name": "stderr",
     "output_type": "stream",
     "text": [
      "distributed.utils_perf - INFO - full garbage collection released 29.26 MiB from 6520 reference cycles (threshold: 9.54 MiB)\n"
     ]
    },
    {
     "data": {
      "text/html": [
       "<div>\n",
       "<style scoped>\n",
       "    .dataframe tbody tr th:only-of-type {\n",
       "        vertical-align: middle;\n",
       "    }\n",
       "\n",
       "    .dataframe tbody tr th {\n",
       "        vertical-align: top;\n",
       "    }\n",
       "\n",
       "    .dataframe thead th {\n",
       "        text-align: right;\n",
       "    }\n",
       "</style>\n",
       "<table border=\"1\" class=\"dataframe\">\n",
       "  <thead>\n",
       "    <tr style=\"text-align: right;\">\n",
       "      <th></th>\n",
       "      <th>fare_amount</th>\n",
       "      <th>pickup_longitude</th>\n",
       "      <th>pickup_latitude</th>\n",
       "      <th>dropoff_longitude</th>\n",
       "      <th>dropoff_latitude</th>\n",
       "      <th>passenger_count</th>\n",
       "      <th>abs_diff_longitude</th>\n",
       "      <th>abs_diff_latitude</th>\n",
       "    </tr>\n",
       "  </thead>\n",
       "  <tbody>\n",
       "    <tr>\n",
       "      <th>count</th>\n",
       "      <td>5.529894e+07</td>\n",
       "      <td>5.529894e+07</td>\n",
       "      <td>5.529894e+07</td>\n",
       "      <td>5.529894e+07</td>\n",
       "      <td>5.529894e+07</td>\n",
       "      <td>5.529894e+07</td>\n",
       "      <td>5.529894e+07</td>\n",
       "      <td>5.529894e+07</td>\n",
       "    </tr>\n",
       "    <tr>\n",
       "      <th>mean</th>\n",
       "      <td>1.133683e+01</td>\n",
       "      <td>-7.257290e+01</td>\n",
       "      <td>3.995280e+01</td>\n",
       "      <td>-7.257205e+01</td>\n",
       "      <td>3.995314e+01</td>\n",
       "      <td>1.685440e+00</td>\n",
       "      <td>2.251316e-02</td>\n",
       "      <td>2.110157e-02</td>\n",
       "    </tr>\n",
       "    <tr>\n",
       "      <th>std</th>\n",
       "      <td>2.071499e+01</td>\n",
       "      <td>1.094742e+01</td>\n",
       "      <td>7.044005e+00</td>\n",
       "      <td>1.094731e+01</td>\n",
       "      <td>7.044055e+00</td>\n",
       "      <td>1.326790e+00</td>\n",
       "      <td>3.854502e-02</td>\n",
       "      <td>2.903143e-02</td>\n",
       "    </tr>\n",
       "    <tr>\n",
       "      <th>min</th>\n",
       "      <td>-3.000000e+02</td>\n",
       "      <td>-3.440696e+03</td>\n",
       "      <td>-3.488080e+03</td>\n",
       "      <td>-3.440696e+03</td>\n",
       "      <td>-3.488080e+03</td>\n",
       "      <td>0.000000e+00</td>\n",
       "      <td>0.000000e+00</td>\n",
       "      <td>0.000000e+00</td>\n",
       "    </tr>\n",
       "    <tr>\n",
       "      <th>25%</th>\n",
       "      <td>6.000000e+00</td>\n",
       "      <td>-7.399201e+01</td>\n",
       "      <td>4.073514e+01</td>\n",
       "      <td>-7.399136e+01</td>\n",
       "      <td>4.073480e+01</td>\n",
       "      <td>1.000000e+00</td>\n",
       "      <td>5.826000e-03</td>\n",
       "      <td>7.097500e-03</td>\n",
       "    </tr>\n",
       "    <tr>\n",
       "      <th>50%</th>\n",
       "      <td>8.500000e+00</td>\n",
       "      <td>-7.398174e+01</td>\n",
       "      <td>4.075281e+01</td>\n",
       "      <td>-7.397989e+01</td>\n",
       "      <td>4.075331e+01</td>\n",
       "      <td>1.000000e+00</td>\n",
       "      <td>1.244800e-02</td>\n",
       "      <td>1.387000e-02</td>\n",
       "    </tr>\n",
       "    <tr>\n",
       "      <th>75%</th>\n",
       "      <td>1.250000e+01</td>\n",
       "      <td>-7.396704e+01</td>\n",
       "      <td>4.076762e+01</td>\n",
       "      <td>-7.396365e+01</td>\n",
       "      <td>4.076842e+01</td>\n",
       "      <td>2.000000e+00</td>\n",
       "      <td>2.370100e-02</td>\n",
       "      <td>2.696945e-02</td>\n",
       "    </tr>\n",
       "    <tr>\n",
       "      <th>max</th>\n",
       "      <td>9.396336e+04</td>\n",
       "      <td>3.456223e+03</td>\n",
       "      <td>3.378013e+03</td>\n",
       "      <td>3.456223e+03</td>\n",
       "      <td>3.378013e+03</td>\n",
       "      <td>2.080000e+02</td>\n",
       "      <td>4.989833e+00</td>\n",
       "      <td>4.991325e+00</td>\n",
       "    </tr>\n",
       "  </tbody>\n",
       "</table>\n",
       "</div>"
      ],
      "text/plain": [
       "        fare_amount  pickup_longitude  pickup_latitude  dropoff_longitude  \\\n",
       "count  5.529894e+07      5.529894e+07     5.529894e+07       5.529894e+07   \n",
       "mean   1.133683e+01     -7.257290e+01     3.995280e+01      -7.257205e+01   \n",
       "std    2.071499e+01      1.094742e+01     7.044005e+00       1.094731e+01   \n",
       "min   -3.000000e+02     -3.440696e+03    -3.488080e+03      -3.440696e+03   \n",
       "25%    6.000000e+00     -7.399201e+01     4.073514e+01      -7.399136e+01   \n",
       "50%    8.500000e+00     -7.398174e+01     4.075281e+01      -7.397989e+01   \n",
       "75%    1.250000e+01     -7.396704e+01     4.076762e+01      -7.396365e+01   \n",
       "max    9.396336e+04      3.456223e+03     3.378013e+03       3.456223e+03   \n",
       "\n",
       "       dropoff_latitude  passenger_count  abs_diff_longitude  \\\n",
       "count      5.529894e+07     5.529894e+07        5.529894e+07   \n",
       "mean       3.995314e+01     1.685440e+00        2.251316e-02   \n",
       "std        7.044055e+00     1.326790e+00        3.854502e-02   \n",
       "min       -3.488080e+03     0.000000e+00        0.000000e+00   \n",
       "25%        4.073480e+01     1.000000e+00        5.826000e-03   \n",
       "50%        4.075331e+01     1.000000e+00        1.244800e-02   \n",
       "75%        4.076842e+01     2.000000e+00        2.370100e-02   \n",
       "max        3.378013e+03     2.080000e+02        4.989833e+00   \n",
       "\n",
       "       abs_diff_latitude  \n",
       "count       5.529894e+07  \n",
       "mean        2.110157e-02  \n",
       "std         2.903143e-02  \n",
       "min         0.000000e+00  \n",
       "25%         7.097500e-03  \n",
       "50%         1.387000e-02  \n",
       "75%         2.696945e-02  \n",
       "max         4.991325e+00  "
      ]
     },
     "execution_count": 24,
     "metadata": {},
     "output_type": "execute_result"
    }
   ],
   "source": [
    "train_df.describe().compute()"
   ]
  },
  {
   "cell_type": "markdown",
   "id": "8e7ec27e",
   "metadata": {},
   "source": [
    "<span style=\"color:#EB5E0B;font-style:italic\">\n",
    "    \n",
    "- Find some values (at least two) that still looks odd to you in the table above.\n",
    "</span>"
   ]
  },
  {
   "cell_type": "markdown",
   "id": "283fce12",
   "metadata": {},
   "source": [
    "The min row with min passenger_count and distances of 0 is odd. Also a minimum fare of -300$ is very odd. A maximum number of 208 passengers is odd too unless planes are considered cabs in NY. We should filter that out. "
   ]
  },
  {
   "cell_type": "markdown",
   "id": "dead4e91",
   "metadata": {},
   "source": [
    "<span style=\"color:#EB5E0B;font-style:italic\">\n",
    "    \n",
    "### BONUS Questions (you don't have to do this, just go back to it if you want to improve, skip it at first)\n",
    "\n",
    "Some other questions to practice\n",
    "\n",
    "- Can you see a correlation between the fare amount and the dropoff latitude? Answer by doing a dask dataframe computation.\n",
    "\n",
    "First you'll need to round the dropoff latitude to have some sort of categories using Series.round() function.\n",
    "\n",
    "Then, just group_by this new colon to have some answer (and don't forget to compute to get the results).\n",
    "</span>"
   ]
  },
  {
   "cell_type": "code",
   "execution_count": null,
   "id": "78f631f0",
   "metadata": {},
   "outputs": [],
   "source": [
    "## Answer needed here"
   ]
  },
  {
   "cell_type": "markdown",
   "id": "85f28182",
   "metadata": {},
   "source": [
    "OK, this don't give a lot of insights, but it looks like we've got some strange values somewhere!\n",
    "\n",
    "<br>\n",
    "\n",
    "<span style=\"color:#EB5E0B;font-style:italic\">\n",
    "- Let's just have a look of non extreme values, so probably some records at the middle of the results.\n",
    "We need first to sort the resulting series by index before looking at the middle of it.\n",
    "</span>"
   ]
  },
  {
   "cell_type": "code",
   "execution_count": null,
   "id": "b1430445",
   "metadata": {},
   "outputs": [],
   "source": [
    "## Answer needed there"
   ]
  },
  {
   "cell_type": "markdown",
   "id": "dd946db2",
   "metadata": {},
   "source": [
    "OK, this is not really useful, but it's an exercise!"
   ]
  },
  {
   "cell_type": "markdown",
   "id": "d34cd5be",
   "metadata": {},
   "source": [
    "<span style=\"color:#EB5E0B;font-style:italic\">\n",
    "    \n",
    "- Do you think we could parallelize things better for any of our computation or data access? (It's a trap).\n",
    "</span>"
   ]
  },
  {
   "cell_type": "code",
   "execution_count": null,
   "id": "9ac3d081",
   "metadata": {},
   "outputs": [],
   "source": [
    "## Textual answer needed here"
   ]
  },
  {
   "cell_type": "markdown",
   "id": "41b40adc",
   "metadata": {},
   "source": [
    "## Training a model in a distributed way\n",
    "\n",
    "Let's begin with a linear model that we can distributed with Dask ML."
   ]
  },
  {
   "cell_type": "markdown",
   "id": "4d2e693a",
   "metadata": {},
   "source": [
    "### Building our feature vectors\n",
    "\n",
    "Here again define a method so that we can use it later for our test set evaluation.\n",
    "\n",
    "<br>\n",
    "\n",
    "<span style=\"color:#EB5E0B;font-style:italic\">\n",
    "    \n",
    "- Just do the same as with the Pandas example by defining a get_input_matrix(df) function. But this time you'll generate a dask array (not numpy) using `to_dask_array(lengths=True)` method on the dataframe object instead of `np.column_stack` (look a bit a dask docs in order to find how to use this method). You should do a method that generate the X input features dask array, and also the same with y training results. You can do just one method that return both (return X, y). \n",
    "- It is a good idea to persist() arrays in memory in or after the call.\n",
    "- This time, we'll add the feature 'passenger_count' in addition to the distance vectors, one more feature! So X must have 3 columns.\n",
    "</span>"
   ]
  },
  {
   "cell_type": "code",
   "execution_count": 25,
   "id": "d6d6b00f",
   "metadata": {},
   "outputs": [],
   "source": [
    "## Answer needed here\n",
    "\n",
    "# using the travel vector, plus passenger count.\n",
    "def get_input_matrix(df):\n",
    "    x = df[[\"abs_diff_longitude\", \"abs_diff_latitude\", \"passenger_count\"]].to_dask_array(lengths=True)\n",
    "    y = df[\"fare_amount\"].to_dask_array(lengths=True)\n",
    "    return x.persist(), y.persist()\n"
   ]
  },
  {
   "cell_type": "markdown",
   "id": "34aad88f",
   "metadata": {},
   "source": [
    "Then we get the values, and display train_X to have some insights of its size and chunking scheme."
   ]
  },
  {
   "cell_type": "code",
   "execution_count": 30,
   "id": "61c4eea9",
   "metadata": {},
   "outputs": [
    {
     "data": {
      "text/html": [
       "<table>\n",
       "    <tr>\n",
       "        <td>\n",
       "            <table>\n",
       "                <thead>\n",
       "                    <tr>\n",
       "                        <td> </td>\n",
       "                        <th> Array </th>\n",
       "                        <th> Chunk </th>\n",
       "                    </tr>\n",
       "                </thead>\n",
       "                <tbody>\n",
       "                    \n",
       "                    <tr>\n",
       "                        <th> Bytes </th>\n",
       "                        <td> 1.24 GiB </td>\n",
       "                        <td> 14.23 MiB </td>\n",
       "                    </tr>\n",
       "                    \n",
       "                    <tr>\n",
       "                        <th> Shape </th>\n",
       "                        <td> (55298943, 3) </td>\n",
       "                        <td> (621536, 3) </td>\n",
       "                    </tr>\n",
       "                    <tr>\n",
       "                        <th> Count </th>\n",
       "                        <td> 90 Tasks </td>\n",
       "                        <td> 90 Chunks </td>\n",
       "                    </tr>\n",
       "                    <tr>\n",
       "                    <th> Type </th>\n",
       "                    <td> float64 </td>\n",
       "                    <td> numpy.ndarray </td>\n",
       "                    </tr>\n",
       "                </tbody>\n",
       "            </table>\n",
       "        </td>\n",
       "        <td>\n",
       "        <svg width=\"75\" height=\"170\" style=\"stroke:rgb(0,0,0);stroke-width:1\" >\n",
       "\n",
       "  <!-- Horizontal lines -->\n",
       "  <line x1=\"0\" y1=\"0\" x2=\"25\" y2=\"0\" style=\"stroke-width:2\" />\n",
       "  <line x1=\"0\" y1=\"5\" x2=\"25\" y2=\"5\" />\n",
       "  <line x1=\"0\" y1=\"12\" x2=\"25\" y2=\"12\" />\n",
       "  <line x1=\"0\" y1=\"18\" x2=\"25\" y2=\"18\" />\n",
       "  <line x1=\"0\" y1=\"24\" x2=\"25\" y2=\"24\" />\n",
       "  <line x1=\"0\" y1=\"31\" x2=\"25\" y2=\"31\" />\n",
       "  <line x1=\"0\" y1=\"37\" x2=\"25\" y2=\"37\" />\n",
       "  <line x1=\"0\" y1=\"44\" x2=\"25\" y2=\"44\" />\n",
       "  <line x1=\"0\" y1=\"49\" x2=\"25\" y2=\"49\" />\n",
       "  <line x1=\"0\" y1=\"56\" x2=\"25\" y2=\"56\" />\n",
       "  <line x1=\"0\" y1=\"63\" x2=\"25\" y2=\"63\" />\n",
       "  <line x1=\"0\" y1=\"70\" x2=\"25\" y2=\"70\" />\n",
       "  <line x1=\"0\" y1=\"75\" x2=\"25\" y2=\"75\" />\n",
       "  <line x1=\"0\" y1=\"82\" x2=\"25\" y2=\"82\" />\n",
       "  <line x1=\"0\" y1=\"88\" x2=\"25\" y2=\"88\" />\n",
       "  <line x1=\"0\" y1=\"95\" x2=\"25\" y2=\"95\" />\n",
       "  <line x1=\"0\" y1=\"101\" x2=\"25\" y2=\"101\" />\n",
       "  <line x1=\"0\" y1=\"107\" x2=\"25\" y2=\"107\" />\n",
       "  <line x1=\"0\" y1=\"114\" x2=\"25\" y2=\"114\" />\n",
       "  <line x1=\"0\" y1=\"120\" x2=\"25\" y2=\"120\" style=\"stroke-width:2\" />\n",
       "\n",
       "  <!-- Vertical lines -->\n",
       "  <line x1=\"0\" y1=\"0\" x2=\"0\" y2=\"120\" style=\"stroke-width:2\" />\n",
       "  <line x1=\"25\" y1=\"0\" x2=\"25\" y2=\"120\" style=\"stroke-width:2\" />\n",
       "\n",
       "  <!-- Colored Rectangle -->\n",
       "  <polygon points=\"0.0,0.0 25.412616514582485,0.0 25.412616514582485,120.0 0.0,120.0\" style=\"fill:#8B4903A0;stroke-width:0\"/>\n",
       "\n",
       "  <!-- Text -->\n",
       "  <text x=\"12.706308\" y=\"140.000000\" font-size=\"1.0rem\" font-weight=\"100\" text-anchor=\"middle\" >3</text>\n",
       "  <text x=\"45.412617\" y=\"60.000000\" font-size=\"1.0rem\" font-weight=\"100\" text-anchor=\"middle\" transform=\"rotate(-90,45.412617,60.000000)\">55298943</text>\n",
       "</svg>\n",
       "        </td>\n",
       "    </tr>\n",
       "</table>"
      ],
      "text/plain": [
       "dask.array<values, shape=(55298943, 3), dtype=float64, chunksize=(621536, 3), chunktype=numpy.ndarray>"
      ]
     },
     "execution_count": 30,
     "metadata": {},
     "output_type": "execute_result"
    }
   ],
   "source": [
    "train_X, train_y = get_input_matrix(train_df)\n",
    "train_X"
   ]
  },
  {
   "cell_type": "markdown",
   "id": "16204e42",
   "metadata": {},
   "source": [
    "### Distributed training a Linear model\n",
    "\n",
    "Be careful, this can take time, try first with few iterations (Use max_iter = 5 as a kwarg to LinearRegression constructor).\n",
    "\n",
    "see https://ml.dask.org/glm.html  \n",
    "and https://ml.dask.org/modules/generated/dask_ml.linear_model.LinearRegression.html#dask_ml.linear_model.LinearRegression\n",
    "\n",
    "<br>\n",
    "\n",
    "<span style=\"color:#EB5E0B;font-style:italic\">\n",
    "    \n",
    "- Train a LinearRegression model from dask_ml.linear_model on our inputs\n",
    "</span>\n"
   ]
  },
  {
   "cell_type": "code",
   "execution_count": 27,
   "id": "a3c0833b",
   "metadata": {},
   "outputs": [],
   "source": [
    "from dask_ml.linear_model import LinearRegression\n"
   ]
  },
  {
   "cell_type": "code",
   "execution_count": 31,
   "id": "52ba9d0b",
   "metadata": {},
   "outputs": [
    {
     "name": "stdout",
     "output_type": "stream",
     "text": [
      "CPU times: user 6.58 s, sys: 466 ms, total: 7.05 s\n",
      "Wall time: 14.6 s\n"
     ]
    },
    {
     "data": {
      "text/plain": [
       "LinearRegression(max_iter=5)"
      ]
     },
     "execution_count": 31,
     "metadata": {},
     "output_type": "execute_result"
    }
   ],
   "source": [
    "%%time\n",
    "\n",
    "lr = LinearRegression(max_iter=5)\n",
    "\n",
    "lr.fit(train_X, train_y)\n"
   ]
  },
  {
   "cell_type": "markdown",
   "id": "d65ec13f",
   "metadata": {},
   "source": [
    "## Evaluating our model\n"
   ]
  },
  {
   "cell_type": "markdown",
   "id": "95b3b96f",
   "metadata": {},
   "source": [
    "#### First we should load the test set."
   ]
  },
  {
   "cell_type": "code",
   "execution_count": 94,
   "id": "0e78929e",
   "metadata": {},
   "outputs": [
    {
     "data": {
      "text/html": [
       "<div><strong>Dask DataFrame Structure:</strong></div>\n",
       "<div>\n",
       "<style scoped>\n",
       "    .dataframe tbody tr th:only-of-type {\n",
       "        vertical-align: middle;\n",
       "    }\n",
       "\n",
       "    .dataframe tbody tr th {\n",
       "        vertical-align: top;\n",
       "    }\n",
       "\n",
       "    .dataframe thead th {\n",
       "        text-align: right;\n",
       "    }\n",
       "</style>\n",
       "<table border=\"1\" class=\"dataframe\">\n",
       "  <thead>\n",
       "    <tr style=\"text-align: right;\">\n",
       "      <th></th>\n",
       "      <th>key</th>\n",
       "      <th>fare_amount</th>\n",
       "      <th>pickup_datetime</th>\n",
       "      <th>pickup_longitude</th>\n",
       "      <th>pickup_latitude</th>\n",
       "      <th>dropoff_longitude</th>\n",
       "      <th>dropoff_latitude</th>\n",
       "      <th>passenger_count</th>\n",
       "    </tr>\n",
       "    <tr>\n",
       "      <th>npartitions=1</th>\n",
       "      <th></th>\n",
       "      <th></th>\n",
       "      <th></th>\n",
       "      <th></th>\n",
       "      <th></th>\n",
       "      <th></th>\n",
       "      <th></th>\n",
       "      <th></th>\n",
       "    </tr>\n",
       "  </thead>\n",
       "  <tbody>\n",
       "    <tr>\n",
       "      <th></th>\n",
       "      <td>object</td>\n",
       "      <td>float64</td>\n",
       "      <td>object</td>\n",
       "      <td>float64</td>\n",
       "      <td>float64</td>\n",
       "      <td>float64</td>\n",
       "      <td>float64</td>\n",
       "      <td>int64</td>\n",
       "    </tr>\n",
       "    <tr>\n",
       "      <th></th>\n",
       "      <td>...</td>\n",
       "      <td>...</td>\n",
       "      <td>...</td>\n",
       "      <td>...</td>\n",
       "      <td>...</td>\n",
       "      <td>...</td>\n",
       "      <td>...</td>\n",
       "      <td>...</td>\n",
       "    </tr>\n",
       "  </tbody>\n",
       "</table>\n",
       "</div>\n",
       "<div>Dask Name: read-csv, 1 tasks</div>"
      ],
      "text/plain": [
       "Dask DataFrame Structure:\n",
       "                  key fare_amount pickup_datetime pickup_longitude pickup_latitude dropoff_longitude dropoff_latitude passenger_count\n",
       "npartitions=1                                                                                                                        \n",
       "               object     float64          object          float64         float64           float64          float64           int64\n",
       "                  ...         ...             ...              ...             ...               ...              ...             ...\n",
       "Dask Name: read-csv, 1 tasks"
      ]
     },
     "execution_count": 94,
     "metadata": {},
     "output_type": "execute_result"
    }
   ],
   "source": [
    "test_df = dd.read_csv('gs://obd-dask23/test.csv')\n",
    "test_df"
   ]
  },
  {
   "cell_type": "markdown",
   "id": "2b0695ac",
   "metadata": {},
   "source": [
    "Adding our features to the test set and getting our feature array"
   ]
  },
  {
   "cell_type": "code",
   "execution_count": 95,
   "id": "2432c8e6",
   "metadata": {},
   "outputs": [
    {
     "data": {
      "text/html": [
       "<table>\n",
       "    <tr>\n",
       "        <td>\n",
       "            <table>\n",
       "                <thead>\n",
       "                    <tr>\n",
       "                        <td> </td>\n",
       "                        <th> Array </th>\n",
       "                        <th> Chunk </th>\n",
       "                    </tr>\n",
       "                </thead>\n",
       "                <tbody>\n",
       "                    \n",
       "                    <tr>\n",
       "                        <th> Bytes </th>\n",
       "                        <td> 234.38 kiB </td>\n",
       "                        <td> 234.38 kiB </td>\n",
       "                    </tr>\n",
       "                    \n",
       "                    <tr>\n",
       "                        <th> Shape </th>\n",
       "                        <td> (10000, 3) </td>\n",
       "                        <td> (10000, 3) </td>\n",
       "                    </tr>\n",
       "                    <tr>\n",
       "                        <th> Count </th>\n",
       "                        <td> 1 Tasks </td>\n",
       "                        <td> 1 Chunks </td>\n",
       "                    </tr>\n",
       "                    <tr>\n",
       "                    <th> Type </th>\n",
       "                    <td> float64 </td>\n",
       "                    <td> numpy.ndarray </td>\n",
       "                    </tr>\n",
       "                </tbody>\n",
       "            </table>\n",
       "        </td>\n",
       "        <td>\n",
       "        <svg width=\"75\" height=\"170\" style=\"stroke:rgb(0,0,0);stroke-width:1\" >\n",
       "\n",
       "  <!-- Horizontal lines -->\n",
       "  <line x1=\"0\" y1=\"0\" x2=\"25\" y2=\"0\" style=\"stroke-width:2\" />\n",
       "  <line x1=\"0\" y1=\"120\" x2=\"25\" y2=\"120\" style=\"stroke-width:2\" />\n",
       "\n",
       "  <!-- Vertical lines -->\n",
       "  <line x1=\"0\" y1=\"0\" x2=\"0\" y2=\"120\" style=\"stroke-width:2\" />\n",
       "  <line x1=\"25\" y1=\"0\" x2=\"25\" y2=\"120\" style=\"stroke-width:2\" />\n",
       "\n",
       "  <!-- Colored Rectangle -->\n",
       "  <polygon points=\"0.0,0.0 25.412616514582485,0.0 25.412616514582485,120.0 0.0,120.0\" style=\"fill:#ECB172A0;stroke-width:0\"/>\n",
       "\n",
       "  <!-- Text -->\n",
       "  <text x=\"12.706308\" y=\"140.000000\" font-size=\"1.0rem\" font-weight=\"100\" text-anchor=\"middle\" >3</text>\n",
       "  <text x=\"45.412617\" y=\"60.000000\" font-size=\"1.0rem\" font-weight=\"100\" text-anchor=\"middle\" transform=\"rotate(-90,45.412617,60.000000)\">10000</text>\n",
       "</svg>\n",
       "        </td>\n",
       "    </tr>\n",
       "</table>"
      ],
      "text/plain": [
       "dask.array<values, shape=(10000, 3), dtype=float64, chunksize=(10000, 3), chunktype=numpy.ndarray>"
      ]
     },
     "execution_count": 95,
     "metadata": {},
     "output_type": "execute_result"
    }
   ],
   "source": [
    "add_travel_vector_features(test_df)\n",
    "test_X, test_y = get_input_matrix(test_df)\n",
    "test_X"
   ]
  },
  {
   "cell_type": "markdown",
   "id": "245a45fa",
   "metadata": {},
   "source": [
    "We can use the score method inherited from Scikit learn, it gives some hints on the model performance (but our scoring board will be on RMSE). Even if for linear models, score if often low."
   ]
  },
  {
   "cell_type": "code",
   "execution_count": 34,
   "id": "0bc8e4ec",
   "metadata": {},
   "outputs": [
    {
     "data": {
      "text/plain": [
       "-5446.859716263979"
      ]
     },
     "execution_count": 34,
     "metadata": {},
     "output_type": "execute_result"
    }
   ],
   "source": [
    "lr.score(test_X, test_y)"
   ]
  },
  {
   "cell_type": "code",
   "execution_count": 35,
   "id": "65be4dba",
   "metadata": {},
   "outputs": [
    {
     "data": {
      "text/plain": [
       "array([32.00397982, 10.425151  , 13.43535835, ...,  8.44537463,\n",
       "       10.06470166,  7.21376595])"
      ]
     },
     "execution_count": 35,
     "metadata": {},
     "output_type": "execute_result"
    }
   ],
   "source": [
    "lr.predict(test_X).compute()"
   ]
  },
  {
   "cell_type": "markdown",
   "id": "e56e0b52",
   "metadata": {},
   "source": [
    "#### Compute the RMSE\n",
    "\n",
    "https://www.kaggle.com/c/new-york-city-taxi-fare-prediction/overview/evaluation"
   ]
  },
  {
   "cell_type": "code",
   "execution_count": 36,
   "id": "9c12a254",
   "metadata": {},
   "outputs": [
    {
     "data": {
      "text/plain": [
       "704.4395891068963"
      ]
     },
     "execution_count": 36,
     "metadata": {},
     "output_type": "execute_result"
    }
   ],
   "source": [
    "from sklearn.metrics import mean_squared_error\n",
    "mean_squared_error(test_y.compute(), lr.predict(test_X).compute(), squared=False)"
   ]
  },
  {
   "cell_type": "markdown",
   "id": "618691b3",
   "metadata": {},
   "source": [
    "<span style=\"color:#EB5E0B;font-style:italic\">\n",
    "    \n",
    "- What RMSE did you get? Compare it to the Pandas only computation.\n",
    "</span>"
   ]
  },
  {
   "cell_type": "markdown",
   "id": "bdde4b4e",
   "metadata": {},
   "source": [
    "We find a similar RMSE as with Pandas only (704 vs 702~), even though the passenger count was not included for the pandas computation."
   ]
  },
  {
   "cell_type": "markdown",
   "id": "c5c75934",
   "metadata": {},
   "source": [
    "# Distributed XGboost (optionnal, you can skip it at first)\n",
    "\n",
    "Just use the documentation here https://xgboost.readthedocs.io/en/stable/tutorials/dask.html#overview to train a model on this dataset using xgboost.\n",
    "\n",
    "<br>\n",
    "<span style=\"color:#EB5E0B;font-style:italic\">\n",
    "    \n",
    "- Just copy/paste the example (dtrain = ..., output = ...), and modify some input variables.\n",
    "- Then make a prediction (but don't forget to use your test set, not as in the prediction = ... example from the Xgboost doc).\n",
    "- Compute the mean square error on it.\n",
    "</span>"
   ]
  },
  {
   "cell_type": "code",
   "execution_count": null,
   "id": "2c158497",
   "metadata": {},
   "outputs": [],
   "source": [
    "# Answer needed here"
   ]
  },
  {
   "cell_type": "code",
   "execution_count": null,
   "id": "5c42822f",
   "metadata": {},
   "outputs": [],
   "source": [
    "# Answer needed here"
   ]
  },
  {
   "cell_type": "code",
   "execution_count": null,
   "id": "b580369c",
   "metadata": {},
   "outputs": [],
   "source": [
    "from sklearn.metrics import mean_squared_error\n",
    "mean_squared_error(test_y.compute(), prediction.compute(), squared=False)"
   ]
  },
  {
   "cell_type": "markdown",
   "id": "993d1443",
   "metadata": {},
   "source": [
    "## Use Dask to scale computation on Hyper Parameter Search\n",
    "\n",
    "As seen above, Dask is well suited to distribute Data and learn a model on a big Data set. However, not all the models can be trained in parallel on sub chunks of Data. See https://scikit-learn.org/stable/computing/scaling_strategies.html for the compatible models of Scikit learn for example.\n",
    "\n",
    "Dask can also be used to train several models in parallel on small datasets, this is what we'll try now.\n",
    "\n",
    "We will just take a sample of the training set, and try to learn several models with different hyper parameters, and find the best one.\n",
    "\n",
    "Dask Hyper parameter search : https://ml.dask.org/hyper-parameter-search.html."
   ]
  },
  {
   "cell_type": "markdown",
   "id": "b8cc0e7a",
   "metadata": {},
   "source": [
    "First we'll take a small subset of the Data, 5% is a maximum if we want to avoir memory issues on our workers and have appropriate training times. You can try with less if the results are still good."
   ]
  },
  {
   "cell_type": "code",
   "execution_count": 37,
   "id": "f5c06652",
   "metadata": {},
   "outputs": [],
   "source": [
    "#Take a sample of the input data, get it as pandas dataframe\n",
    "train_sample_df = train_df.sample(frac=0.05, random_state=270120)\n",
    "# Get feature vectors out of it\n",
    "train_sample_X, train_sample_y = get_input_matrix(train_sample_df)"
   ]
  },
  {
   "cell_type": "markdown",
   "id": "4c03fe60",
   "metadata": {},
   "source": [
    "In order to optimize things, we can also change the type of the features to more appropriate and small types.\n",
    "\n",
    "We also need to use Numpy arrays, so we'll gather the result from Dask to local variable."
   ]
  },
  {
   "cell_type": "code",
   "execution_count": 38,
   "id": "fdee85b3",
   "metadata": {},
   "outputs": [
    {
     "data": {
      "text/plain": [
       "array([[5.0590e-02, 3.6229e-02, 1.0000e+00],\n",
       "       [9.7000e-05, 4.9270e-03, 1.0000e+00],\n",
       "       [1.2900e-02, 3.8450e-03, 5.0000e+00],\n",
       "       ...,\n",
       "       [6.3930e-03, 5.3500e-03, 4.0000e+00],\n",
       "       [7.2440e-03, 1.5199e-02, 1.0000e+00],\n",
       "       [5.1250e-03, 6.7100e-03, 1.0000e+00]], dtype=float32)"
      ]
     },
     "execution_count": 38,
     "metadata": {},
     "output_type": "execute_result"
    }
   ],
   "source": [
    "train_sample_X = train_sample_X.astype('float32').compute()\n",
    "train_sample_y = train_sample_y.astype('float32').compute()\n",
    "train_sample_X"
   ]
  },
  {
   "cell_type": "markdown",
   "id": "c6971e4a",
   "metadata": {},
   "source": [
    "What size is our dataset ?"
   ]
  },
  {
   "cell_type": "code",
   "execution_count": 39,
   "id": "6d9bf7bf",
   "metadata": {},
   "outputs": [
    {
     "data": {
      "text/plain": [
       "33179544"
      ]
     },
     "execution_count": 39,
     "metadata": {},
     "output_type": "execute_result"
    }
   ],
   "source": [
    "import sys\n",
    "sys.getsizeof(train_sample_X)"
   ]
  },
  {
   "cell_type": "markdown",
   "id": "af5f2ee9",
   "metadata": {},
   "source": [
    "About 32MB, this is still quite a big dataset for standard machine learning."
   ]
  },
  {
   "cell_type": "markdown",
   "id": "0e1a4fc2",
   "metadata": {},
   "source": [
    "<span style=\"color:#EB5E0B;font-style:italic\">\n",
    "\n",
    "- Now, just use hyper parameter search Dask API to distribute the search. You can either use joblib integration with Sklearn or dask_ml directly. \n",
    "\n",
    "**Be careful: do not use model too long to train, and limit their complexity at first or the combinations of hyper parameters you'll use. Hint, start first with a simple LinearModel like SGDRegressor and not more than 10 iterations per model.**\n",
    "</span>\n",
    "\n",
    "So start with something like:\n",
    "\n",
    "- RandomizedSearchCV https://scikit-learn.org/stable/modules/generated/sklearn.model_selection.RandomizedSearchCV.html, with cv=2, n_iter=50, verbose=10\n",
    "- With sklearn.linear_model.SGDRegressor with max_iter=20\n",
    "- Use this parameter space:\n",
    "```python\n",
    "from scipy.stats import uniform, loguniform\n",
    "param_space = {\n",
    "    \"average\": [True, False],\n",
    "    'penalty': ['l2', 'l1', 'elasticnet'],\n",
    "    \"alpha\": loguniform(1e-5, 1e-1),\n",
    "    \"learning_rate\": [\"invscaling\", \"adaptive\"],\n",
    "    \"power_t\": uniform(0, 1),\n",
    "}\n",
    "```\n",
    "- If you chose sklearn API, you want to import joblib, and use `with joblib.parallel_backend('dask'):` before fitting your model.\n",
    "- If you chose dask_ml API, https://ml.dask.org/hyper-parameter-search.html#basic-use, you'll don't need the with syntax, but just the correct imports: from dask_ml.model_selection import RandomizedSearchCV"
   ]
  },
  {
   "cell_type": "code",
   "execution_count": 40,
   "id": "4af5148d",
   "metadata": {},
   "outputs": [],
   "source": [
    "from scipy.stats import uniform, loguniform\n",
    "from sklearn.linear_model import SGDRegressor\n",
    "\n",
    "param_space = {\n",
    "  \"average\": [True, False],\n",
    "  'penalty': ['l2', 'l1', 'elasticnet'],\n",
    "  \"alpha\": loguniform(1e-5, 1e-1),\n",
    "  \"learning_rate\": [\"invscaling\", \"adaptive\"],\n",
    "  \"power_t\": uniform(0, 1),\n",
    "}"
   ]
  },
  {
   "cell_type": "code",
   "execution_count": 42,
   "id": "6049d0cc",
   "metadata": {},
   "outputs": [],
   "source": [
    "from dask_ml.model_selection import RandomizedSearchCV"
   ]
  },
  {
   "cell_type": "code",
   "execution_count": 44,
   "id": "dc43a312",
   "metadata": {},
   "outputs": [
    {
     "name": "stdout",
     "output_type": "stream",
     "text": [
      "CPU times: user 18.5 s, sys: 1.18 s, total: 19.6 s\n",
      "Wall time: 58.6 s\n"
     ]
    },
    {
     "data": {
      "text/plain": [
       "{'alpha': 3.0254239799248948e-05,\n",
       " 'average': False,\n",
       " 'learning_rate': 'adaptive',\n",
       " 'penalty': 'elasticnet',\n",
       " 'power_t': 0.6886611828057704}"
      ]
     },
     "execution_count": 44,
     "metadata": {},
     "output_type": "execute_result"
    }
   ],
   "source": [
    "%%time\n",
    "## Answer needed here (with dask_ml)\n",
    "\n",
    "clf = SGDRegressor(max_iter=20)\n",
    "\n",
    "search = RandomizedSearchCV(clf, param_space, random_state=0, cv=2, n_iter=50)\n",
    "\n",
    "search.fit(train_sample_X, train_sample_y)\n",
    "\n",
    "search.best_params_"
   ]
  },
  {
   "cell_type": "code",
   "execution_count": 45,
   "id": "5dcf013b",
   "metadata": {},
   "outputs": [
    {
     "data": {
      "text/plain": [
       "-5533.966567947073"
      ]
     },
     "execution_count": 45,
     "metadata": {},
     "output_type": "execute_result"
    }
   ],
   "source": [
    "search.score(test_X, test_y)"
   ]
  },
  {
   "cell_type": "code",
   "execution_count": 46,
   "id": "0cf1ae20",
   "metadata": {},
   "outputs": [
    {
     "data": {
      "text/plain": [
       "710.0489641030213"
      ]
     },
     "execution_count": 46,
     "metadata": {},
     "output_type": "execute_result"
    }
   ],
   "source": [
    "from sklearn.metrics import mean_squared_error\n",
    "mean_squared_error(test_y, search.predict(test_X), squared=False)"
   ]
  },
  {
   "cell_type": "markdown",
   "id": "c8545454",
   "metadata": {},
   "source": [
    "<span style=\"color:#EB5E0B;font-style:italic\">\n",
    "\n",
    "- So how does this result compare to the previous one we got with a distributed leaning with a linear model on all the dataset?\n",
    "    \n",
    "</span>"
   ]
  },
  {
   "cell_type": "markdown",
   "id": "84177165",
   "metadata": {},
   "source": [
    "This (710) is worse than before where we got 704. "
   ]
  },
  {
   "cell_type": "markdown",
   "id": "661cfe73",
   "metadata": {},
   "source": [
    "<span style=\"color:#EB5E0B;font-style:italic\">\n",
    "\n",
    "- Try with https://ml.dask.org/modules/generated/dask_ml.model_selection.HyperbandSearchCV.html#dask_ml.model_selection.HyperbandSearchCV instead of RandomizedSearchCV.\n",
    "    \n",
    "You'd prefer to use dask_ml.model_selection.HyperbandSearchCV (instead of joblib). And just need to change n_iter to max_iter, and remove another arg.\n",
    "    \n",
    "</span>"
   ]
  },
  {
   "cell_type": "code",
   "execution_count": 48,
   "id": "5a465ce8",
   "metadata": {},
   "outputs": [],
   "source": [
    "from dask_ml.model_selection import HyperbandSearchCV"
   ]
  },
  {
   "cell_type": "code",
   "execution_count": 50,
   "id": "f223ae96",
   "metadata": {},
   "outputs": [
    {
     "name": "stdout",
     "output_type": "stream",
     "text": [
      "CPU times: user 18 s, sys: 1.3 s, total: 19.3 s\n",
      "Wall time: 38.5 s\n"
     ]
    },
    {
     "data": {
      "text/plain": [
       "{'alpha': 3.4063751743563e-05,\n",
       " 'average': True,\n",
       " 'learning_rate': 'adaptive',\n",
       " 'penalty': 'l1',\n",
       " 'power_t': 0.5013467551791069}"
      ]
     },
     "execution_count": 50,
     "metadata": {},
     "output_type": "execute_result"
    }
   ],
   "source": [
    "%%time\n",
    "\n",
    "clf = SGDRegressor(max_iter=20)\n",
    "\n",
    "search = HyperbandSearchCV(clf, param_space, random_state=0, max_iter=50)\n",
    "\n",
    "search.fit(train_sample_X, train_sample_y)\n",
    "\n",
    "search.best_params_"
   ]
  },
  {
   "cell_type": "code",
   "execution_count": 51,
   "id": "6b489ffc",
   "metadata": {},
   "outputs": [
    {
     "data": {
      "text/plain": [
       "-5783.1205247639155"
      ]
     },
     "execution_count": 51,
     "metadata": {},
     "output_type": "execute_result"
    }
   ],
   "source": [
    "search.score(test_X, test_y)"
   ]
  },
  {
   "cell_type": "code",
   "execution_count": 52,
   "id": "f90d9c1f",
   "metadata": {},
   "outputs": [
    {
     "data": {
      "text/plain": [
       "725.854316926092"
      ]
     },
     "execution_count": 52,
     "metadata": {},
     "output_type": "execute_result"
    }
   ],
   "source": [
    "from sklearn.metrics import mean_squared_error\n",
    "mean_squared_error(test_y, search.predict(test_X), squared=False)"
   ]
  },
  {
   "cell_type": "markdown",
   "id": "c9592bec",
   "metadata": {},
   "source": [
    "<span style=\"color:#EB5E0B;font-style:italic\">\n",
    "    \n",
    "- OK, Linear models are bad, we'll try to do better with Random forest! https://scikit-learn.org/stable/modules/generated/sklearn.ensemble.RandomForestRegressor.html\n",
    "    \n",
    "Return to RandomizedSearchCV for now.\n",
    "\n",
    "Caution: use limited trees, small number of estimators < 10 and max_depth < 40 at first\n",
    "</span>\n",
    "\n",
    "For example:\n",
    "\n",
    "```python\n",
    "param_space = {\n",
    "'n_estimators': range(4,10),\n",
    "'max_depth': range(10,40),\n",
    "}\n",
    "```"
   ]
  },
  {
   "cell_type": "code",
   "execution_count": 102,
   "id": "3e172547",
   "metadata": {},
   "outputs": [],
   "source": [
    "from sklearn.ensemble import RandomForestRegressor\n",
    "from sklearn.model_selection import RandomizedSearchCV\n",
    "import joblib\n",
    "\n",
    "param_space = {\n",
    "'n_estimators': range(4,10),\n",
    "'max_depth': range(10,40),\n",
    "}\n",
    "\n"
   ]
  },
  {
   "cell_type": "code",
   "execution_count": 103,
   "id": "fcc66ed1",
   "metadata": {},
   "outputs": [
    {
     "name": "stderr",
     "output_type": "stream",
     "text": [
      "distributed.scheduler - INFO - Receive client connection: Client-worker-ff54c20d-bdb8-11ed-81f7-c3ed4bac69f8\n",
      "distributed.core - INFO - Starting established connection\n",
      "distributed.scheduler - INFO - Receive client connection: Client-worker-ff54b910-bdb8-11ed-81f7-eb2eedf8cf17\n",
      "distributed.core - INFO - Starting established connection\n",
      "distributed.scheduler - INFO - Receive client connection: Client-worker-ff0e6e07-bdb8-11ed-8223-0f495528c338\n",
      "distributed.core - INFO - Starting established connection\n",
      "distributed.scheduler - INFO - Receive client connection: Client-worker-ff8472d8-bdb8-11ed-8272-c5d80c49fd34\n",
      "distributed.core - INFO - Starting established connection\n",
      "distributed.scheduler - INFO - Receive client connection: Client-worker-ff85de26-bdb8-11ed-822a-7ddcfef83e33\n",
      "distributed.core - INFO - Starting established connection\n",
      "distributed.scheduler - INFO - Receive client connection: Client-worker-ff8499b9-bdb8-11ed-8272-8375d39f6926\n",
      "distributed.core - INFO - Starting established connection\n",
      "distributed.scheduler - INFO - Receive client connection: Client-worker-ff85d21c-bdb8-11ed-822a-f3ea25aa830a\n",
      "distributed.core - INFO - Starting established connection\n",
      "distributed.scheduler - INFO - Receive client connection: Client-worker-ff986dfa-bdb8-11ed-8211-5fbfff980c04\n",
      "distributed.core - INFO - Starting established connection\n",
      "distributed.scheduler - INFO - Receive client connection: Client-worker-ff98588b-bdb8-11ed-8211-011da16c4fef\n",
      "distributed.core - INFO - Starting established connection\n",
      "distributed.scheduler - INFO - Receive client connection: Client-worker-ff9ebf47-bdb8-11ed-81e6-ffc6b4becfbe\n",
      "distributed.core - INFO - Starting established connection\n",
      "distributed.scheduler - INFO - Receive client connection: Client-worker-ff9cc150-bdb8-11ed-81d4-01a3c7566501\n",
      "distributed.core - INFO - Starting established connection\n",
      "distributed.scheduler - INFO - Receive client connection: Client-worker-ff9cb040-bdb8-11ed-81d4-4576b90d26db\n",
      "distributed.core - INFO - Starting established connection\n",
      "distributed.scheduler - INFO - Receive client connection: Client-worker-ffa2df57-bdb8-11ed-81be-dddd7809dbfe\n",
      "distributed.core - INFO - Starting established connection\n",
      "distributed.scheduler - INFO - Receive client connection: Client-worker-ff9eb244-bdb8-11ed-81e6-b1a864c485c3\n",
      "distributed.core - INFO - Starting established connection\n",
      "distributed.scheduler - INFO - Receive client connection: Client-worker-ffa7036d-bdb8-11ed-81f7-a7c50c56814f\n",
      "distributed.core - INFO - Starting established connection\n",
      "distributed.scheduler - INFO - Receive client connection: Client-worker-ffa2d386-bdb8-11ed-81be-578ccfd875d9\n",
      "distributed.core - INFO - Starting established connection\n",
      "distributed.scheduler - INFO - Receive client connection: Client-worker-ffac7562-bdb8-11ed-81bc-adfbf3aa0fa5\n",
      "distributed.core - INFO - Starting established connection\n",
      "distributed.scheduler - INFO - Receive client connection: Client-worker-ffa7099b-bdb8-11ed-81f7-7bd74aeaec49\n",
      "distributed.core - INFO - Starting established connection\n",
      "distributed.scheduler - INFO - Receive client connection: Client-worker-ffac89c9-bdb8-11ed-81bc-dbacb39194c4\n",
      "distributed.core - INFO - Starting established connection\n"
     ]
    },
    {
     "name": "stdout",
     "output_type": "stream",
     "text": [
      "CPU times: user 4min 51s, sys: 10.6 s, total: 5min 1s\n",
      "Wall time: 6min 27s\n"
     ]
    }
   ],
   "source": [
    "%%time\n",
    "## Answer here with joblib\n",
    "\n",
    "with joblib.parallel_backend(\"dask\"):\n",
    "    clf = RandomForestRegressor()\n",
    "    search = RandomizedSearchCV(clf, param_space, cv=2, n_iter=50)\n",
    "\n",
    "    search.fit(train_sample_X, train_sample_y)"
   ]
  },
  {
   "cell_type": "code",
   "execution_count": 107,
   "id": "1bb04002",
   "metadata": {},
   "outputs": [
    {
     "data": {
      "text/plain": [
       "{'n_estimators': 9, 'max_depth': 11}"
      ]
     },
     "execution_count": 107,
     "metadata": {},
     "output_type": "execute_result"
    }
   ],
   "source": [
    "search.best_params_"
   ]
  },
  {
   "cell_type": "code",
   "execution_count": 104,
   "id": "6991635d",
   "metadata": {},
   "outputs": [
    {
     "data": {
      "text/plain": [
       "0.7627283447457887"
      ]
     },
     "execution_count": 104,
     "metadata": {},
     "output_type": "execute_result"
    }
   ],
   "source": [
    "search.score(test_X, test_y)"
   ]
  },
  {
   "cell_type": "code",
   "execution_count": 105,
   "id": "67fe73d7",
   "metadata": {},
   "outputs": [
    {
     "data": {
      "text/plain": [
       "4.648937709355746"
      ]
     },
     "execution_count": 105,
     "metadata": {},
     "output_type": "execute_result"
    }
   ],
   "source": [
    "from sklearn.metrics import mean_squared_error\n",
    "mean_squared_error(test_y, search.predict(test_X), squared=False)"
   ]
  },
  {
   "cell_type": "markdown",
   "id": "c0cd8318",
   "metadata": {},
   "source": [
    "<span style=\"color:#EB5E0B;font-style:italic\">\n",
    "    \n",
    "- If you did not used joblib, try it now.\n",
    "\n",
    "What do you observe when training RandomForest tree on Dask parallelization Dashboard with joblib? Can you explain why there are so many tasks?\n",
    "</span>"
   ]
  },
  {
   "cell_type": "code",
   "execution_count": 64,
   "id": "7a213e8e",
   "metadata": {},
   "outputs": [],
   "source": [
    "from dask_ml.model_selection import RandomizedSearchCV as RandomizedSearchCVDask"
   ]
  },
  {
   "cell_type": "code",
   "execution_count": 65,
   "id": "6dee3a91",
   "metadata": {
    "scrolled": true
   },
   "outputs": [
    {
     "name": "stderr",
     "output_type": "stream",
     "text": [
      "ERROR:asyncio:Task was destroyed but it is pending!\n",
      "task: <Task pending name='Task-851037' coro=<DaskDistributedBackend._collect() running at /srv/conda/envs/notebook/lib/python3.9/site-packages/joblib/_dask.py:198> wait_for=<Future pending cb=[<TaskWakeupMethWrapper object at 0x7fa227f4e610>()]> cb=[IOLoop.add_future.<locals>.<lambda>() at /srv/conda/envs/notebook/lib/python3.9/site-packages/tornado/ioloop.py:688]>\n",
      "ERROR:asyncio:Task was destroyed but it is pending!\n",
      "task: <Task pending name='Task-814996' coro=<DaskDistributedBackend._collect() running at /srv/conda/envs/notebook/lib/python3.9/site-packages/joblib/_dask.py:198> wait_for=<Future pending cb=[<TaskWakeupMethWrapper object at 0x7fa225b974c0>()]> cb=[IOLoop.add_future.<locals>.<lambda>() at /srv/conda/envs/notebook/lib/python3.9/site-packages/tornado/ioloop.py:688]>\n",
      "distributed.utils_perf - INFO - full garbage collection released 128.83 MiB from 4566 reference cycles (threshold: 9.54 MiB)\n"
     ]
    },
    {
     "name": "stdout",
     "output_type": "stream",
     "text": [
      "CPU times: user 4min 20s, sys: 9.72 s, total: 4min 29s\n",
      "Wall time: 6min 34s\n"
     ]
    },
    {
     "data": {
      "text/plain": [
       "{'n_estimators': 9, 'max_depth': 10}"
      ]
     },
     "execution_count": 65,
     "metadata": {},
     "output_type": "execute_result"
    }
   ],
   "source": [
    "%%time\n",
    "\n",
    "clf = RandomForestRegressor()\n",
    "search = RandomizedSearchCVDask(clf, param_space, random_state=0, cv=2, n_iter=50)\n",
    "\n",
    "search.fit(train_sample_X, train_sample_y)\n",
    "search.best_params_"
   ]
  },
  {
   "cell_type": "code",
   "execution_count": 100,
   "id": "35a398ba",
   "metadata": {},
   "outputs": [
    {
     "data": {
      "text/plain": [
       "0.7643666591074372"
      ]
     },
     "execution_count": 100,
     "metadata": {},
     "output_type": "execute_result"
    }
   ],
   "source": [
    "search.score(test_X, test_y)"
   ]
  },
  {
   "cell_type": "code",
   "execution_count": 101,
   "id": "e72798f9",
   "metadata": {},
   "outputs": [
    {
     "data": {
      "text/plain": [
       "4.632859905056613"
      ]
     },
     "execution_count": 101,
     "metadata": {},
     "output_type": "execute_result"
    }
   ],
   "source": [
    "from sklearn.metrics import mean_squared_error\n",
    "mean_squared_error(test_y, search.predict(test_X), squared=False)"
   ]
  },
  {
   "cell_type": "markdown",
   "id": "81fba8bc",
   "metadata": {},
   "source": [
    "<span style=\"color:#EB5E0B;font-style:italic\">\n",
    "    \n",
    "- Did you get better results with RandomForest? Do you know why?\n",
    "</span>"
   ]
  },
  {
   "cell_type": "markdown",
   "id": "832cd519",
   "metadata": {},
   "source": [
    "RandomForest gives much better results, with 4.6 MSE RMSE instead of 700.\n",
    "\n",
    "Opposed to a linear regression, a RandomForest can fit on non-linear data."
   ]
  },
  {
   "cell_type": "markdown",
   "id": "f83862a8",
   "metadata": {},
   "source": [
    "<span style=\"color:#EB5E0B;font-style:italic\">\n",
    "    \n",
    "# Extend this notebook\n",
    "    \n",
    "Try to do better!\n",
    "\n",
    "- Add new features to the input Data using Dask Dataframes, or clean it better. Reapply the learning above with these new features. Do you get better results? Some suggestions for a better leaning:\n",
    "  - Max passenger count of 208, maybe we should ignore this value? Rides with 0 passengers? Try to drop some data.\n",
    "  - Apply some normalisation or regularization or other feature transformation? See https://ml.dask.org/preprocessing.html.\n",
    "  - Add some non linear features (square feature, for example square the travel vector)\n",
    "  - There are 0m rides?\n",
    "  - Negative fare amount?? Drop some data.\n",
    "  - Maybe the hour of the day, or the month, has some impact on fares? Try to add features. See https://matthewrocklin.com/blog/work/2017/01/12/dask-dataframes for some hints on how to do this.\n",
    "  - Maybe try to find a way to use the start and drop off locations?\n",
    "- Improve the model parameters or find a better one. Try using this time dask_ml HyperbandSearchCV. See https://ml.dask.org/hyper-parameter-search.html#basic-use. You can use it for example with https://scikit-learn.org/stable/modules/generated/sklearn.neural_network.MLPRegressor.html#sklearn.neural_network.MLPRegressor.\n",
    "- Try one single RandomForestRegressor (with no HyperParameterSearch), but with big depth and estimators. This single model fitting should be distributed on dask with joblib (Random Forest is about training several decision trees).\n",
    "\n",
    "</span>\n"
   ]
  },
  {
   "cell_type": "code",
   "execution_count": 108,
   "id": "cb3d8019",
   "metadata": {},
   "outputs": [
    {
     "name": "stderr",
     "output_type": "stream",
     "text": [
      "distributed.scheduler - INFO - Remove client Client-worker-ff85de26-bdb8-11ed-822a-7ddcfef83e33\n",
      "distributed.scheduler - INFO - Remove client Client-worker-ffa2d386-bdb8-11ed-81be-578ccfd875d9\n",
      "distributed.scheduler - INFO - Remove client Client-worker-ffa7099b-bdb8-11ed-81f7-7bd74aeaec49\n",
      "distributed.scheduler - INFO - Remove client Client-worker-ffac89c9-bdb8-11ed-81bc-dbacb39194c4\n",
      "distributed.scheduler - INFO - Remove client Client-worker-ff85de26-bdb8-11ed-822a-7ddcfef83e33\n",
      "distributed.scheduler - INFO - Remove client Client-worker-ffa2d386-bdb8-11ed-81be-578ccfd875d9\n",
      "distributed.scheduler - INFO - Remove client Client-worker-ffa7099b-bdb8-11ed-81f7-7bd74aeaec49\n",
      "distributed.scheduler - INFO - Remove client Client-worker-ffac89c9-bdb8-11ed-81bc-dbacb39194c4\n",
      "distributed.scheduler - INFO - Remove client Client-worker-ff54c20d-bdb8-11ed-81f7-c3ed4bac69f8\n",
      "distributed.scheduler - INFO - Remove client Client-worker-ff54c20d-bdb8-11ed-81f7-c3ed4bac69f8\n",
      "distributed.scheduler - INFO - Remove client Client-worker-ff85d21c-bdb8-11ed-822a-f3ea25aa830a\n",
      "distributed.scheduler - INFO - Remove client Client-worker-ffa2df57-bdb8-11ed-81be-dddd7809dbfe\n",
      "distributed.scheduler - INFO - Remove client Client-worker-ffa7036d-bdb8-11ed-81f7-a7c50c56814f\n",
      "distributed.scheduler - INFO - Close client connection: Client-worker-ff85de26-bdb8-11ed-822a-7ddcfef83e33\n",
      "distributed.scheduler - INFO - Close client connection: Client-worker-ffa2d386-bdb8-11ed-81be-578ccfd875d9\n",
      "distributed.scheduler - INFO - Close client connection: Client-worker-ffa7099b-bdb8-11ed-81f7-7bd74aeaec49\n",
      "distributed.scheduler - INFO - Close client connection: Client-worker-ffac89c9-bdb8-11ed-81bc-dbacb39194c4\n",
      "distributed.scheduler - INFO - Remove client Client-worker-ff85d21c-bdb8-11ed-822a-f3ea25aa830a\n",
      "distributed.scheduler - INFO - Remove client Client-worker-ffa2df57-bdb8-11ed-81be-dddd7809dbfe\n",
      "distributed.scheduler - INFO - Remove client Client-worker-ffa7036d-bdb8-11ed-81f7-a7c50c56814f\n",
      "distributed.scheduler - INFO - Remove client Client-worker-ffac7562-bdb8-11ed-81bc-adfbf3aa0fa5\n",
      "distributed.scheduler - INFO - Remove client Client-worker-ffac7562-bdb8-11ed-81bc-adfbf3aa0fa5\n",
      "distributed.scheduler - INFO - Remove client Client-worker-ff54b910-bdb8-11ed-81f7-eb2eedf8cf17\n",
      "distributed.scheduler - INFO - Remove client Client-worker-ff0e6e07-bdb8-11ed-8223-0f495528c338\n",
      "distributed.scheduler - INFO - Remove client Client-worker-ff9ebf47-bdb8-11ed-81e6-ffc6b4becfbe\n",
      "distributed.scheduler - INFO - Remove client Client-worker-ff8472d8-bdb8-11ed-8272-c5d80c49fd34\n",
      "distributed.scheduler - INFO - Close client connection: Client-worker-ff54c20d-bdb8-11ed-81f7-c3ed4bac69f8\n",
      "distributed.scheduler - INFO - Remove client Client-worker-ff54b910-bdb8-11ed-81f7-eb2eedf8cf17\n",
      "distributed.scheduler - INFO - Remove client Client-worker-ff0e6e07-bdb8-11ed-8223-0f495528c338\n",
      "distributed.scheduler - INFO - Remove client Client-worker-ff9ebf47-bdb8-11ed-81e6-ffc6b4becfbe\n",
      "distributed.scheduler - INFO - Remove client Client-worker-ff8472d8-bdb8-11ed-8272-c5d80c49fd34\n",
      "distributed.scheduler - INFO - Remove client Client-worker-ff9cb040-bdb8-11ed-81d4-4576b90d26db\n",
      "distributed.scheduler - INFO - Remove client Client-worker-ff98588b-bdb8-11ed-8211-011da16c4fef\n",
      "distributed.scheduler - INFO - Close client connection: Client-worker-ff85d21c-bdb8-11ed-822a-f3ea25aa830a\n",
      "distributed.scheduler - INFO - Close client connection: Client-worker-ffa2df57-bdb8-11ed-81be-dddd7809dbfe\n",
      "distributed.scheduler - INFO - Close client connection: Client-worker-ffa7036d-bdb8-11ed-81f7-a7c50c56814f\n",
      "distributed.scheduler - INFO - Remove client Client-worker-ff9cb040-bdb8-11ed-81d4-4576b90d26db\n",
      "distributed.scheduler - INFO - Remove worker <WorkerState 'tcp://10.80.3.15:35113', name: 8, status: closing, memory: 0, processing: 0>\n",
      "distributed.core - INFO - Removing comms to tcp://10.80.3.15:35113\n",
      "distributed.scheduler - INFO - Remove worker <WorkerState 'tcp://10.80.2.9:35553', name: 0, status: closing, memory: 0, processing: 0>\n",
      "distributed.core - INFO - Removing comms to tcp://10.80.2.9:35553\n",
      "distributed.scheduler - INFO - Remove worker <WorkerState 'tcp://10.80.5.8:33943', name: 9, status: closing, memory: 0, processing: 0>\n",
      "distributed.core - INFO - Removing comms to tcp://10.80.5.8:33943\n",
      "distributed.scheduler - INFO - Remove client Client-worker-ff98588b-bdb8-11ed-8211-011da16c4fef\n",
      "distributed.scheduler - INFO - Close client connection: Client-worker-ffac7562-bdb8-11ed-81bc-adfbf3aa0fa5\n",
      "distributed.scheduler - INFO - Remove worker <WorkerState 'tcp://10.80.0.30:33815', name: 1, status: closing, memory: 4, processing: 0>\n",
      "distributed.core - INFO - Removing comms to tcp://10.80.0.30:33815\n",
      "distributed.scheduler - INFO - Remove client Client-worker-ff9eb244-bdb8-11ed-81e6-b1a864c485c3\n",
      "distributed.scheduler - INFO - Remove client Client-worker-ff8499b9-bdb8-11ed-8272-8375d39f6926\n",
      "distributed.scheduler - INFO - Close client connection: Client-worker-ff54b910-bdb8-11ed-81f7-eb2eedf8cf17\n",
      "distributed.scheduler - INFO - Close client connection: Client-worker-ff0e6e07-bdb8-11ed-8223-0f495528c338\n",
      "distributed.scheduler - INFO - Close client connection: Client-worker-ff9ebf47-bdb8-11ed-81e6-ffc6b4becfbe\n",
      "distributed.scheduler - INFO - Close client connection: Client-worker-ff8472d8-bdb8-11ed-8272-c5d80c49fd34\n",
      "distributed.scheduler - INFO - Remove worker <WorkerState 'tcp://10.80.4.15:45043', name: 4, status: closing, memory: 0, processing: 0>\n",
      "distributed.core - INFO - Removing comms to tcp://10.80.4.15:45043\n",
      "distributed.scheduler - INFO - Remove worker <WorkerState 'tcp://10.80.4.14:42377', name: 7, status: closing, memory: 0, processing: 0>\n",
      "distributed.core - INFO - Removing comms to tcp://10.80.4.14:42377\n",
      "distributed.scheduler - INFO - Remove client Client-worker-ff9eb244-bdb8-11ed-81e6-b1a864c485c3\n",
      "distributed.scheduler - INFO - Remove client Client-worker-ff8499b9-bdb8-11ed-8272-8375d39f6926\n",
      "distributed.scheduler - INFO - Remove client Client-worker-ff9cc150-bdb8-11ed-81d4-01a3c7566501\n",
      "distributed.scheduler - INFO - Close client connection: Client-worker-ff9cb040-bdb8-11ed-81d4-4576b90d26db\n",
      "distributed.scheduler - INFO - Close client connection: Client-worker-ff98588b-bdb8-11ed-8211-011da16c4fef\n",
      "distributed.scheduler - INFO - Remove client Client-worker-ff9cc150-bdb8-11ed-81d4-01a3c7566501\n",
      "distributed.scheduler - INFO - Remove client Client-worker-ff986dfa-bdb8-11ed-8211-5fbfff980c04\n",
      "distributed.scheduler - INFO - Remove client Client-worker-ff986dfa-bdb8-11ed-8211-5fbfff980c04\n",
      "distributed.scheduler - INFO - Close client connection: Client-worker-ff9eb244-bdb8-11ed-81e6-b1a864c485c3\n",
      "distributed.scheduler - INFO - Close client connection: Client-worker-ff8499b9-bdb8-11ed-8272-8375d39f6926\n",
      "distributed.scheduler - INFO - Remove worker <WorkerState 'tcp://10.80.1.8:38829', name: 5, status: closing, memory: 0, processing: 0>\n",
      "distributed.core - INFO - Removing comms to tcp://10.80.1.8:38829\n",
      "distributed.scheduler - INFO - Remove worker <WorkerState 'tcp://10.80.2.8:42595', name: 3, status: closing, memory: 0, processing: 0>\n",
      "distributed.core - INFO - Removing comms to tcp://10.80.2.8:42595\n",
      "distributed.scheduler - INFO - Scheduler closing...\n",
      "distributed.scheduler - INFO - Remove worker <WorkerState 'tcp://10.80.1.9:43157', name: 2, status: closing, memory: 0, processing: 0>\n",
      "distributed.core - INFO - Removing comms to tcp://10.80.1.9:43157\n",
      "distributed.scheduler - INFO - Remove worker <WorkerState 'tcp://10.80.5.9:34033', name: 6, status: closing, memory: 0, processing: 0>\n",
      "distributed.core - INFO - Removing comms to tcp://10.80.5.9:34033\n",
      "distributed.scheduler - INFO - Lost all workers\n",
      "distributed.scheduler - INFO - Scheduler closing all comms\n"
     ]
    }
   ],
   "source": [
    "cluster.close()"
   ]
  },
  {
   "cell_type": "code",
   "execution_count": 63,
   "id": "13960e8f",
   "metadata": {},
   "outputs": [
    {
     "name": "stderr",
     "output_type": "stream",
     "text": [
      "distributed.scheduler - INFO - Send lost future signal to clients\n",
      "distributed.scheduler - INFO - Remove worker <WorkerState 'tcp://10.80.0.30:45741', name: 1, status: paused, memory: 0, processing: 0>\n",
      "distributed.core - INFO - Removing comms to tcp://10.80.0.30:45741\n",
      "distributed.scheduler - INFO - Remove worker <WorkerState 'tcp://10.80.1.8:38579', name: 5, status: paused, memory: 0, processing: 0>\n",
      "distributed.core - INFO - Removing comms to tcp://10.80.1.8:38579\n",
      "distributed.scheduler - INFO - Remove worker <WorkerState 'tcp://10.80.1.9:39289', name: 2, status: paused, memory: 0, processing: 0>\n",
      "distributed.core - INFO - Removing comms to tcp://10.80.1.9:39289\n",
      "distributed.scheduler - INFO - Remove worker <WorkerState 'tcp://10.80.2.8:41769', name: 3, status: paused, memory: 0, processing: 0>\n",
      "distributed.core - INFO - Removing comms to tcp://10.80.2.8:41769\n",
      "distributed.scheduler - INFO - Remove worker <WorkerState 'tcp://10.80.2.9:45885', name: 0, status: paused, memory: 0, processing: 0>\n",
      "distributed.core - INFO - Removing comms to tcp://10.80.2.9:45885\n",
      "distributed.scheduler - INFO - Remove worker <WorkerState 'tcp://10.80.3.15:43523', name: 8, status: running, memory: 0, processing: 0>\n",
      "distributed.core - INFO - Removing comms to tcp://10.80.3.15:43523\n",
      "distributed.scheduler - INFO - Remove worker <WorkerState 'tcp://10.80.4.14:43349', name: 7, status: running, memory: 0, processing: 0>\n",
      "distributed.core - INFO - Removing comms to tcp://10.80.4.14:43349\n",
      "distributed.scheduler - INFO - Remove worker <WorkerState 'tcp://10.80.4.15:33789', name: 4, status: running, memory: 0, processing: 0>\n",
      "distributed.core - INFO - Removing comms to tcp://10.80.4.15:33789\n",
      "distributed.scheduler - INFO - Remove worker <WorkerState 'tcp://10.80.5.8:40037', name: 9, status: paused, memory: 0, processing: 0>\n",
      "distributed.core - INFO - Removing comms to tcp://10.80.5.8:40037\n",
      "distributed.scheduler - INFO - Remove worker <WorkerState 'tcp://10.80.5.9:43111', name: 6, status: running, memory: 0, processing: 0>\n",
      "distributed.core - INFO - Removing comms to tcp://10.80.5.9:43111\n",
      "distributed.scheduler - INFO - Lost all workers\n",
      "distributed.scheduler - INFO - Clear task state\n",
      "distributed.scheduler - INFO - Remove client Client-worker-39dd6b44-bdb6-11ed-8207-41bd2fd49773\n",
      "distributed.scheduler - INFO - Remove client Client-worker-39dd6b44-bdb6-11ed-8207-41bd2fd49773\n",
      "distributed.scheduler - INFO - Close client connection: Client-worker-39dd6b44-bdb6-11ed-8207-41bd2fd49773\n",
      "distributed.scheduler - INFO - Remove client Client-worker-3496b3f5-bdb4-11ed-8139-23ceda41ee5a\n",
      "distributed.scheduler - INFO - Remove client Client-worker-3496b3f5-bdb4-11ed-8139-23ceda41ee5a\n",
      "distributed.scheduler - INFO - Close client connection: Client-worker-3496b3f5-bdb4-11ed-8139-23ceda41ee5a\n",
      "distributed.scheduler - INFO - Remove client Client-worker-3496761d-bdb4-11ed-8139-23ceda41ee5a\n",
      "distributed.scheduler - INFO - Remove client Client-worker-3496761d-bdb4-11ed-8139-23ceda41ee5a\n",
      "distributed.scheduler - INFO - Close client connection: Client-worker-3496761d-bdb4-11ed-8139-23ceda41ee5a\n",
      "distributed.scheduler - INFO - Remove client Client-worker-33a6e544-bdb4-11ed-8139-1fe0fbede5a7\n",
      "distributed.scheduler - INFO - Remove client Client-worker-33a6e544-bdb4-11ed-8139-1fe0fbede5a7\n",
      "distributed.scheduler - INFO - Close client connection: Client-worker-33a6e544-bdb4-11ed-8139-1fe0fbede5a7\n",
      "distributed.scheduler - INFO - Remove client Client-worker-33a6d6e4-bdb4-11ed-8139-610859bd0379\n",
      "distributed.scheduler - INFO - Remove client Client-worker-33a6d6e4-bdb4-11ed-8139-610859bd0379\n",
      "distributed.scheduler - INFO - Close client connection: Client-worker-33a6d6e4-bdb4-11ed-8139-610859bd0379\n",
      "distributed.scheduler - INFO - Remove client Client-worker-7d560234-bdb4-11ed-819b-d93d28835aca\n",
      "distributed.scheduler - INFO - Remove client Client-worker-7d560234-bdb4-11ed-819b-d93d28835aca\n",
      "distributed.scheduler - INFO - Remove client Client-worker-6e255677-bdb4-11ed-81a1-354bfb96aa8b\n",
      "distributed.scheduler - INFO - Remove client Client-worker-6e255677-bdb4-11ed-81a1-354bfb96aa8b\n",
      "distributed.scheduler - INFO - Remove client Client-worker-344cec64-bdb4-11ed-8139-21b05a967314\n",
      "distributed.scheduler - INFO - Remove client Client-worker-344cec64-bdb4-11ed-8139-21b05a967314\n",
      "distributed.scheduler - INFO - Close client connection: Client-worker-7d560234-bdb4-11ed-819b-d93d28835aca\n",
      "distributed.scheduler - INFO - Remove client Client-worker-6e257688-bdb4-11ed-81a1-731426e61385\n",
      "distributed.scheduler - INFO - Close client connection: Client-worker-6e255677-bdb4-11ed-81a1-354bfb96aa8b\n",
      "distributed.scheduler - INFO - Remove client Client-worker-6e257688-bdb4-11ed-81a1-731426e61385\n",
      "distributed.scheduler - INFO - Close client connection: Client-worker-344cec64-bdb4-11ed-8139-21b05a967314\n",
      "distributed.scheduler - INFO - Remove client Client-worker-344c61f7-bdb4-11ed-8139-21b05a967314\n",
      "distributed.scheduler - INFO - Remove client Client-worker-3656c88b-bdb5-11ed-81ac-cf8dbed7dfd9\n",
      "distributed.scheduler - INFO - Remove client Client-worker-344c61f7-bdb4-11ed-8139-21b05a967314\n",
      "distributed.scheduler - INFO - Remove client Client-worker-3656c88b-bdb5-11ed-81ac-cf8dbed7dfd9\n",
      "distributed.scheduler - INFO - Close client connection: Client-worker-6e257688-bdb4-11ed-81a1-731426e61385\n",
      "distributed.scheduler - INFO - Close client connection: Client-worker-344c61f7-bdb4-11ed-8139-21b05a967314\n",
      "distributed.scheduler - INFO - Close client connection: Client-worker-3656c88b-bdb5-11ed-81ac-cf8dbed7dfd9\n",
      "distributed.scheduler - INFO - Remove client Client-worker-340cfebb-bdb4-11ed-8139-6782593f75a9\n",
      "distributed.scheduler - INFO - Remove client Client-worker-340cfebb-bdb4-11ed-8139-6782593f75a9\n",
      "distributed.scheduler - INFO - Remove client Client-worker-340d147d-bdb4-11ed-8139-2342408bbac5\n",
      "distributed.scheduler - INFO - Close client connection: Client-worker-340cfebb-bdb4-11ed-8139-6782593f75a9\n",
      "distributed.scheduler - INFO - Remove client Client-worker-340d147d-bdb4-11ed-8139-2342408bbac5\n",
      "distributed.scheduler - INFO - Close client connection: Client-worker-340d147d-bdb4-11ed-8139-2342408bbac5\n",
      "distributed.scheduler - INFO - Remove client Client-worker-340d3ed4-bdb4-11ed-8139-fb1115e32687\n",
      "distributed.scheduler - INFO - Remove client Client-worker-340d3ed4-bdb4-11ed-8139-fb1115e32687\n",
      "distributed.scheduler - INFO - Remove client Client-worker-340d2da7-bdb4-11ed-8139-471bcbf5a0a3\n",
      "distributed.scheduler - INFO - Close client connection: Client-worker-340d3ed4-bdb4-11ed-8139-fb1115e32687\n",
      "distributed.scheduler - INFO - Remove client Client-worker-340d2da7-bdb4-11ed-8139-471bcbf5a0a3\n",
      "distributed.scheduler - INFO - Remove client Client-worker-3443caf7-bdb4-11ed-8139-1b3dbe48e4e3\n",
      "distributed.scheduler - INFO - Remove client Client-worker-3443caf7-bdb4-11ed-8139-1b3dbe48e4e3\n",
      "distributed.scheduler - INFO - Close client connection: Client-worker-340d2da7-bdb4-11ed-8139-471bcbf5a0a3\n",
      "distributed.scheduler - INFO - Remove client Client-worker-34440052-bdb4-11ed-8139-9191a0689829\n",
      "distributed.scheduler - INFO - Close client connection: Client-worker-3443caf7-bdb4-11ed-8139-1b3dbe48e4e3\n",
      "distributed.scheduler - INFO - Remove client Client-worker-34440052-bdb4-11ed-8139-9191a0689829\n",
      "distributed.scheduler - INFO - Close client connection: Client-worker-34440052-bdb4-11ed-8139-9191a0689829\n",
      "distributed.scheduler - INFO - Register worker <WorkerState 'tcp://10.80.4.14:42377', name: 7, status: undefined, memory: 0, processing: 0>\n",
      "distributed.scheduler - INFO - Starting worker compute stream, tcp://10.80.4.14:42377\n",
      "distributed.core - INFO - Starting established connection\n",
      "distributed.scheduler - INFO - Register worker <WorkerState 'tcp://10.80.4.15:45043', name: 4, status: undefined, memory: 0, processing: 0>\n",
      "distributed.scheduler - INFO - Starting worker compute stream, tcp://10.80.4.15:45043\n",
      "distributed.core - INFO - Starting established connection\n",
      "distributed.scheduler - INFO - Register worker <WorkerState 'tcp://10.80.3.15:35113', name: 8, status: undefined, memory: 0, processing: 0>\n",
      "distributed.scheduler - INFO - Starting worker compute stream, tcp://10.80.3.15:35113\n",
      "distributed.core - INFO - Starting established connection\n",
      "distributed.scheduler - INFO - Register worker <WorkerState 'tcp://10.80.5.9:34033', name: 6, status: undefined, memory: 0, processing: 0>\n",
      "distributed.scheduler - INFO - Starting worker compute stream, tcp://10.80.5.9:34033\n",
      "distributed.core - INFO - Starting established connection\n",
      "distributed.scheduler - INFO - Register worker <WorkerState 'tcp://10.80.5.8:33943', name: 9, status: undefined, memory: 0, processing: 0>\n",
      "distributed.scheduler - INFO - Starting worker compute stream, tcp://10.80.5.8:33943\n",
      "distributed.core - INFO - Starting established connection\n",
      "distributed.scheduler - INFO - Register worker <WorkerState 'tcp://10.80.0.30:33815', name: 1, status: undefined, memory: 0, processing: 0>\n",
      "distributed.scheduler - INFO - Starting worker compute stream, tcp://10.80.0.30:33815\n",
      "distributed.core - INFO - Starting established connection\n",
      "distributed.scheduler - INFO - Register worker <WorkerState 'tcp://10.80.2.8:42595', name: 3, status: undefined, memory: 0, processing: 0>\n",
      "distributed.scheduler - INFO - Starting worker compute stream, tcp://10.80.2.8:42595\n",
      "distributed.core - INFO - Starting established connection\n",
      "distributed.scheduler - INFO - Register worker <WorkerState 'tcp://10.80.2.9:35553', name: 0, status: undefined, memory: 0, processing: 0>\n",
      "distributed.scheduler - INFO - Starting worker compute stream, tcp://10.80.2.9:35553\n",
      "distributed.core - INFO - Starting established connection\n",
      "distributed.scheduler - INFO - Register worker <WorkerState 'tcp://10.80.1.8:38829', name: 5, status: undefined, memory: 0, processing: 0>\n",
      "distributed.scheduler - INFO - Starting worker compute stream, tcp://10.80.1.8:38829\n",
      "distributed.core - INFO - Starting established connection\n",
      "distributed.scheduler - INFO - Register worker <WorkerState 'tcp://10.80.1.9:43157', name: 2, status: undefined, memory: 0, processing: 0>\n",
      "distributed.scheduler - INFO - Starting worker compute stream, tcp://10.80.1.9:43157\n",
      "distributed.core - INFO - Starting established connection\n",
      "distributed.scheduler - INFO - Clear task state\n"
     ]
    },
    {
     "data": {
      "text/html": [
       "<div>\n",
       "    <div style=\"width: 24px; height: 24px; background-color: #e1e1e1; border: 3px solid #9D9D9D; border-radius: 5px; position: absolute;\"> </div>\n",
       "    <div style=\"margin-left: 48px;\">\n",
       "        <h3 style=\"margin-bottom: 0px;\">Client</h3>\n",
       "        <p style=\"color: #9D9D9D; margin-bottom: 0px;\">Client-d8343d35-bdb1-11ed-813c-65129f6d7a2e</p>\n",
       "        <table style=\"width: 100%; text-align: left;\">\n",
       "\n",
       "        <tr>\n",
       "        \n",
       "            <td style=\"text-align: left;\"><strong>Connection method:</strong> Cluster object</td>\n",
       "            <td style=\"text-align: left;\"><strong>Cluster type:</strong> dask_kubernetes.KubeCluster</td>\n",
       "        \n",
       "        </tr>\n",
       "\n",
       "        \n",
       "            <tr>\n",
       "                <td style=\"text-align: left;\">\n",
       "                    <strong>Dashboard: </strong> <a href=\"/user/arthur.laquieze@gmail.com/proxy/8787/status\" target=\"_blank\">/user/arthur.laquieze@gmail.com/proxy/8787/status</a>\n",
       "                </td>\n",
       "                <td style=\"text-align: left;\"></td>\n",
       "            </tr>\n",
       "        \n",
       "\n",
       "        </table>\n",
       "\n",
       "        \n",
       "            <details>\n",
       "            <summary style=\"margin-bottom: 20px;\"><h3 style=\"display: inline;\">Cluster Info</h3></summary>\n",
       "            <div class=\"jp-RenderedHTMLCommon jp-RenderedHTML jp-mod-trusted jp-OutputArea-output\">\n",
       "    <div style=\"width: 24px; height: 24px; background-color: #e1e1e1; border: 3px solid #9D9D9D; border-radius: 5px; position: absolute;\">\n",
       "    </div>\n",
       "    <div style=\"margin-left: 48px;\">\n",
       "        <h3 style=\"margin-bottom: 0px; margin-top: 0px;\">KubeCluster</h3>\n",
       "        <p style=\"color: #9D9D9D; margin-bottom: 0px;\">dask-jovyan-a48025c5-0</p>\n",
       "        <table style=\"width: 100%; text-align: left;\">\n",
       "            <tr>\n",
       "                <td style=\"text-align: left;\">\n",
       "                    <strong>Dashboard:</strong> <a href=\"/user/arthur.laquieze@gmail.com/proxy/8787/status\" target=\"_blank\">/user/arthur.laquieze@gmail.com/proxy/8787/status</a>\n",
       "                </td>\n",
       "                <td style=\"text-align: left;\">\n",
       "                    <strong>Workers:</strong> 10\n",
       "                </td>\n",
       "            </tr>\n",
       "            <tr>\n",
       "                <td style=\"text-align: left;\">\n",
       "                    <strong>Total threads:</strong> 20\n",
       "                </td>\n",
       "                <td style=\"text-align: left;\">\n",
       "                    <strong>Total memory:</strong> 55.88 GiB\n",
       "                </td>\n",
       "            </tr>\n",
       "            \n",
       "        </table>\n",
       "\n",
       "        <details>\n",
       "            <summary style=\"margin-bottom: 20px;\">\n",
       "                <h3 style=\"display: inline;\">Scheduler Info</h3>\n",
       "            </summary>\n",
       "\n",
       "            <div style=\"\">\n",
       "    <div>\n",
       "        <div style=\"width: 24px; height: 24px; background-color: #FFF7E5; border: 3px solid #FF6132; border-radius: 5px; position: absolute;\"> </div>\n",
       "        <div style=\"margin-left: 48px;\">\n",
       "            <h3 style=\"margin-bottom: 0px;\">Scheduler</h3>\n",
       "            <p style=\"color: #9D9D9D; margin-bottom: 0px;\">Scheduler-e3cefc74-7146-4f00-acd7-43e843fdf7a9</p>\n",
       "            <table style=\"width: 100%; text-align: left;\">\n",
       "                <tr>\n",
       "                    <td style=\"text-align: left;\">\n",
       "                        <strong>Comm:</strong> tcp://10.80.0.28:46475\n",
       "                    </td>\n",
       "                    <td style=\"text-align: left;\">\n",
       "                        <strong>Workers:</strong> 10\n",
       "                    </td>\n",
       "                </tr>\n",
       "                <tr>\n",
       "                    <td style=\"text-align: left;\">\n",
       "                        <strong>Dashboard:</strong> <a href=\"/user/arthur.laquieze@gmail.com/proxy/8787/status\" target=\"_blank\">/user/arthur.laquieze@gmail.com/proxy/8787/status</a>\n",
       "                    </td>\n",
       "                    <td style=\"text-align: left;\">\n",
       "                        <strong>Total threads:</strong> 20\n",
       "                    </td>\n",
       "                </tr>\n",
       "                <tr>\n",
       "                    <td style=\"text-align: left;\">\n",
       "                        <strong>Started:</strong> 35 minutes ago\n",
       "                    </td>\n",
       "                    <td style=\"text-align: left;\">\n",
       "                        <strong>Total memory:</strong> 55.88 GiB\n",
       "                    </td>\n",
       "                </tr>\n",
       "            </table>\n",
       "        </div>\n",
       "    </div>\n",
       "\n",
       "    <details style=\"margin-left: 48px;\">\n",
       "        <summary style=\"margin-bottom: 20px;\">\n",
       "            <h3 style=\"display: inline;\">Workers</h3>\n",
       "        </summary>\n",
       "\n",
       "        \n",
       "        <div style=\"margin-bottom: 20px;\">\n",
       "            <div style=\"width: 24px; height: 24px; background-color: #DBF5FF; border: 3px solid #4CC9FF; border-radius: 5px; position: absolute;\"> </div>\n",
       "            <div style=\"margin-left: 48px;\">\n",
       "            <details>\n",
       "                <summary>\n",
       "                    <h4 style=\"margin-bottom: 0px; display: inline;\">Worker: 0</h4>\n",
       "                </summary>\n",
       "                <table style=\"width: 100%; text-align: left;\">\n",
       "                    <tr>\n",
       "                        <td style=\"text-align: left;\">\n",
       "                            <strong>Comm: </strong> tcp://10.80.2.9:35553\n",
       "                        </td>\n",
       "                        <td style=\"text-align: left;\">\n",
       "                            <strong>Total threads: </strong> 2\n",
       "                        </td>\n",
       "                    </tr>\n",
       "                    <tr>\n",
       "                        <td style=\"text-align: left;\">\n",
       "                            <strong>Dashboard: </strong> <a href=\"/user/arthur.laquieze@gmail.com/proxy/42121/status\" target=\"_blank\">/user/arthur.laquieze@gmail.com/proxy/42121/status</a>\n",
       "                        </td>\n",
       "                        <td style=\"text-align: left;\">\n",
       "                            <strong>Memory: </strong> 5.59 GiB\n",
       "                        </td>\n",
       "                    </tr>\n",
       "                    <tr>\n",
       "                        <td style=\"text-align: left;\">\n",
       "                            <strong>Nanny: </strong> tcp://10.80.2.9:41523\n",
       "                        </td>\n",
       "                        <td style=\"text-align: left;\"></td>\n",
       "                    </tr>\n",
       "                    <tr>\n",
       "                        <td colspan=\"2\" style=\"text-align: left;\">\n",
       "                            <strong>Local directory: </strong> /home/jovyan/dask-worker-space/worker-3usv4cxk\n",
       "                        </td>\n",
       "                    </tr>\n",
       "\n",
       "                    \n",
       "\n",
       "                    \n",
       "\n",
       "                </table>\n",
       "            </details>\n",
       "            </div>\n",
       "        </div>\n",
       "        \n",
       "        <div style=\"margin-bottom: 20px;\">\n",
       "            <div style=\"width: 24px; height: 24px; background-color: #DBF5FF; border: 3px solid #4CC9FF; border-radius: 5px; position: absolute;\"> </div>\n",
       "            <div style=\"margin-left: 48px;\">\n",
       "            <details>\n",
       "                <summary>\n",
       "                    <h4 style=\"margin-bottom: 0px; display: inline;\">Worker: 1</h4>\n",
       "                </summary>\n",
       "                <table style=\"width: 100%; text-align: left;\">\n",
       "                    <tr>\n",
       "                        <td style=\"text-align: left;\">\n",
       "                            <strong>Comm: </strong> tcp://10.80.0.30:33815\n",
       "                        </td>\n",
       "                        <td style=\"text-align: left;\">\n",
       "                            <strong>Total threads: </strong> 2\n",
       "                        </td>\n",
       "                    </tr>\n",
       "                    <tr>\n",
       "                        <td style=\"text-align: left;\">\n",
       "                            <strong>Dashboard: </strong> <a href=\"/user/arthur.laquieze@gmail.com/proxy/42455/status\" target=\"_blank\">/user/arthur.laquieze@gmail.com/proxy/42455/status</a>\n",
       "                        </td>\n",
       "                        <td style=\"text-align: left;\">\n",
       "                            <strong>Memory: </strong> 5.59 GiB\n",
       "                        </td>\n",
       "                    </tr>\n",
       "                    <tr>\n",
       "                        <td style=\"text-align: left;\">\n",
       "                            <strong>Nanny: </strong> tcp://10.80.0.30:42913\n",
       "                        </td>\n",
       "                        <td style=\"text-align: left;\"></td>\n",
       "                    </tr>\n",
       "                    <tr>\n",
       "                        <td colspan=\"2\" style=\"text-align: left;\">\n",
       "                            <strong>Local directory: </strong> /home/jovyan/dask-worker-space/worker-e9uyu_5l\n",
       "                        </td>\n",
       "                    </tr>\n",
       "\n",
       "                    \n",
       "\n",
       "                    \n",
       "\n",
       "                </table>\n",
       "            </details>\n",
       "            </div>\n",
       "        </div>\n",
       "        \n",
       "        <div style=\"margin-bottom: 20px;\">\n",
       "            <div style=\"width: 24px; height: 24px; background-color: #DBF5FF; border: 3px solid #4CC9FF; border-radius: 5px; position: absolute;\"> </div>\n",
       "            <div style=\"margin-left: 48px;\">\n",
       "            <details>\n",
       "                <summary>\n",
       "                    <h4 style=\"margin-bottom: 0px; display: inline;\">Worker: 2</h4>\n",
       "                </summary>\n",
       "                <table style=\"width: 100%; text-align: left;\">\n",
       "                    <tr>\n",
       "                        <td style=\"text-align: left;\">\n",
       "                            <strong>Comm: </strong> tcp://10.80.1.9:43157\n",
       "                        </td>\n",
       "                        <td style=\"text-align: left;\">\n",
       "                            <strong>Total threads: </strong> 2\n",
       "                        </td>\n",
       "                    </tr>\n",
       "                    <tr>\n",
       "                        <td style=\"text-align: left;\">\n",
       "                            <strong>Dashboard: </strong> <a href=\"/user/arthur.laquieze@gmail.com/proxy/39483/status\" target=\"_blank\">/user/arthur.laquieze@gmail.com/proxy/39483/status</a>\n",
       "                        </td>\n",
       "                        <td style=\"text-align: left;\">\n",
       "                            <strong>Memory: </strong> 5.59 GiB\n",
       "                        </td>\n",
       "                    </tr>\n",
       "                    <tr>\n",
       "                        <td style=\"text-align: left;\">\n",
       "                            <strong>Nanny: </strong> tcp://10.80.1.9:34405\n",
       "                        </td>\n",
       "                        <td style=\"text-align: left;\"></td>\n",
       "                    </tr>\n",
       "                    <tr>\n",
       "                        <td colspan=\"2\" style=\"text-align: left;\">\n",
       "                            <strong>Local directory: </strong> /home/jovyan/dask-worker-space/worker-lieu0p2m\n",
       "                        </td>\n",
       "                    </tr>\n",
       "\n",
       "                    \n",
       "\n",
       "                    \n",
       "\n",
       "                </table>\n",
       "            </details>\n",
       "            </div>\n",
       "        </div>\n",
       "        \n",
       "        <div style=\"margin-bottom: 20px;\">\n",
       "            <div style=\"width: 24px; height: 24px; background-color: #DBF5FF; border: 3px solid #4CC9FF; border-radius: 5px; position: absolute;\"> </div>\n",
       "            <div style=\"margin-left: 48px;\">\n",
       "            <details>\n",
       "                <summary>\n",
       "                    <h4 style=\"margin-bottom: 0px; display: inline;\">Worker: 3</h4>\n",
       "                </summary>\n",
       "                <table style=\"width: 100%; text-align: left;\">\n",
       "                    <tr>\n",
       "                        <td style=\"text-align: left;\">\n",
       "                            <strong>Comm: </strong> tcp://10.80.2.8:42595\n",
       "                        </td>\n",
       "                        <td style=\"text-align: left;\">\n",
       "                            <strong>Total threads: </strong> 2\n",
       "                        </td>\n",
       "                    </tr>\n",
       "                    <tr>\n",
       "                        <td style=\"text-align: left;\">\n",
       "                            <strong>Dashboard: </strong> <a href=\"/user/arthur.laquieze@gmail.com/proxy/44423/status\" target=\"_blank\">/user/arthur.laquieze@gmail.com/proxy/44423/status</a>\n",
       "                        </td>\n",
       "                        <td style=\"text-align: left;\">\n",
       "                            <strong>Memory: </strong> 5.59 GiB\n",
       "                        </td>\n",
       "                    </tr>\n",
       "                    <tr>\n",
       "                        <td style=\"text-align: left;\">\n",
       "                            <strong>Nanny: </strong> tcp://10.80.2.8:46523\n",
       "                        </td>\n",
       "                        <td style=\"text-align: left;\"></td>\n",
       "                    </tr>\n",
       "                    <tr>\n",
       "                        <td colspan=\"2\" style=\"text-align: left;\">\n",
       "                            <strong>Local directory: </strong> /home/jovyan/dask-worker-space/worker-4goapxbe\n",
       "                        </td>\n",
       "                    </tr>\n",
       "\n",
       "                    \n",
       "\n",
       "                    \n",
       "\n",
       "                </table>\n",
       "            </details>\n",
       "            </div>\n",
       "        </div>\n",
       "        \n",
       "        <div style=\"margin-bottom: 20px;\">\n",
       "            <div style=\"width: 24px; height: 24px; background-color: #DBF5FF; border: 3px solid #4CC9FF; border-radius: 5px; position: absolute;\"> </div>\n",
       "            <div style=\"margin-left: 48px;\">\n",
       "            <details>\n",
       "                <summary>\n",
       "                    <h4 style=\"margin-bottom: 0px; display: inline;\">Worker: 4</h4>\n",
       "                </summary>\n",
       "                <table style=\"width: 100%; text-align: left;\">\n",
       "                    <tr>\n",
       "                        <td style=\"text-align: left;\">\n",
       "                            <strong>Comm: </strong> tcp://10.80.4.15:45043\n",
       "                        </td>\n",
       "                        <td style=\"text-align: left;\">\n",
       "                            <strong>Total threads: </strong> 2\n",
       "                        </td>\n",
       "                    </tr>\n",
       "                    <tr>\n",
       "                        <td style=\"text-align: left;\">\n",
       "                            <strong>Dashboard: </strong> <a href=\"/user/arthur.laquieze@gmail.com/proxy/42871/status\" target=\"_blank\">/user/arthur.laquieze@gmail.com/proxy/42871/status</a>\n",
       "                        </td>\n",
       "                        <td style=\"text-align: left;\">\n",
       "                            <strong>Memory: </strong> 5.59 GiB\n",
       "                        </td>\n",
       "                    </tr>\n",
       "                    <tr>\n",
       "                        <td style=\"text-align: left;\">\n",
       "                            <strong>Nanny: </strong> tcp://10.80.4.15:34329\n",
       "                        </td>\n",
       "                        <td style=\"text-align: left;\"></td>\n",
       "                    </tr>\n",
       "                    <tr>\n",
       "                        <td colspan=\"2\" style=\"text-align: left;\">\n",
       "                            <strong>Local directory: </strong> /home/jovyan/dask-worker-space/worker-3w6w6_fy\n",
       "                        </td>\n",
       "                    </tr>\n",
       "\n",
       "                    \n",
       "\n",
       "                    \n",
       "\n",
       "                </table>\n",
       "            </details>\n",
       "            </div>\n",
       "        </div>\n",
       "        \n",
       "        <div style=\"margin-bottom: 20px;\">\n",
       "            <div style=\"width: 24px; height: 24px; background-color: #DBF5FF; border: 3px solid #4CC9FF; border-radius: 5px; position: absolute;\"> </div>\n",
       "            <div style=\"margin-left: 48px;\">\n",
       "            <details>\n",
       "                <summary>\n",
       "                    <h4 style=\"margin-bottom: 0px; display: inline;\">Worker: 5</h4>\n",
       "                </summary>\n",
       "                <table style=\"width: 100%; text-align: left;\">\n",
       "                    <tr>\n",
       "                        <td style=\"text-align: left;\">\n",
       "                            <strong>Comm: </strong> tcp://10.80.1.8:38829\n",
       "                        </td>\n",
       "                        <td style=\"text-align: left;\">\n",
       "                            <strong>Total threads: </strong> 2\n",
       "                        </td>\n",
       "                    </tr>\n",
       "                    <tr>\n",
       "                        <td style=\"text-align: left;\">\n",
       "                            <strong>Dashboard: </strong> <a href=\"/user/arthur.laquieze@gmail.com/proxy/43437/status\" target=\"_blank\">/user/arthur.laquieze@gmail.com/proxy/43437/status</a>\n",
       "                        </td>\n",
       "                        <td style=\"text-align: left;\">\n",
       "                            <strong>Memory: </strong> 5.59 GiB\n",
       "                        </td>\n",
       "                    </tr>\n",
       "                    <tr>\n",
       "                        <td style=\"text-align: left;\">\n",
       "                            <strong>Nanny: </strong> tcp://10.80.1.8:35613\n",
       "                        </td>\n",
       "                        <td style=\"text-align: left;\"></td>\n",
       "                    </tr>\n",
       "                    <tr>\n",
       "                        <td colspan=\"2\" style=\"text-align: left;\">\n",
       "                            <strong>Local directory: </strong> /home/jovyan/dask-worker-space/worker-98oz81g9\n",
       "                        </td>\n",
       "                    </tr>\n",
       "\n",
       "                    \n",
       "\n",
       "                    \n",
       "\n",
       "                </table>\n",
       "            </details>\n",
       "            </div>\n",
       "        </div>\n",
       "        \n",
       "        <div style=\"margin-bottom: 20px;\">\n",
       "            <div style=\"width: 24px; height: 24px; background-color: #DBF5FF; border: 3px solid #4CC9FF; border-radius: 5px; position: absolute;\"> </div>\n",
       "            <div style=\"margin-left: 48px;\">\n",
       "            <details>\n",
       "                <summary>\n",
       "                    <h4 style=\"margin-bottom: 0px; display: inline;\">Worker: 6</h4>\n",
       "                </summary>\n",
       "                <table style=\"width: 100%; text-align: left;\">\n",
       "                    <tr>\n",
       "                        <td style=\"text-align: left;\">\n",
       "                            <strong>Comm: </strong> tcp://10.80.5.9:34033\n",
       "                        </td>\n",
       "                        <td style=\"text-align: left;\">\n",
       "                            <strong>Total threads: </strong> 2\n",
       "                        </td>\n",
       "                    </tr>\n",
       "                    <tr>\n",
       "                        <td style=\"text-align: left;\">\n",
       "                            <strong>Dashboard: </strong> <a href=\"/user/arthur.laquieze@gmail.com/proxy/35937/status\" target=\"_blank\">/user/arthur.laquieze@gmail.com/proxy/35937/status</a>\n",
       "                        </td>\n",
       "                        <td style=\"text-align: left;\">\n",
       "                            <strong>Memory: </strong> 5.59 GiB\n",
       "                        </td>\n",
       "                    </tr>\n",
       "                    <tr>\n",
       "                        <td style=\"text-align: left;\">\n",
       "                            <strong>Nanny: </strong> tcp://10.80.5.9:34971\n",
       "                        </td>\n",
       "                        <td style=\"text-align: left;\"></td>\n",
       "                    </tr>\n",
       "                    <tr>\n",
       "                        <td colspan=\"2\" style=\"text-align: left;\">\n",
       "                            <strong>Local directory: </strong> /home/jovyan/dask-worker-space/worker-_598cvac\n",
       "                        </td>\n",
       "                    </tr>\n",
       "\n",
       "                    \n",
       "\n",
       "                    \n",
       "\n",
       "                </table>\n",
       "            </details>\n",
       "            </div>\n",
       "        </div>\n",
       "        \n",
       "        <div style=\"margin-bottom: 20px;\">\n",
       "            <div style=\"width: 24px; height: 24px; background-color: #DBF5FF; border: 3px solid #4CC9FF; border-radius: 5px; position: absolute;\"> </div>\n",
       "            <div style=\"margin-left: 48px;\">\n",
       "            <details>\n",
       "                <summary>\n",
       "                    <h4 style=\"margin-bottom: 0px; display: inline;\">Worker: 7</h4>\n",
       "                </summary>\n",
       "                <table style=\"width: 100%; text-align: left;\">\n",
       "                    <tr>\n",
       "                        <td style=\"text-align: left;\">\n",
       "                            <strong>Comm: </strong> tcp://10.80.4.14:42377\n",
       "                        </td>\n",
       "                        <td style=\"text-align: left;\">\n",
       "                            <strong>Total threads: </strong> 2\n",
       "                        </td>\n",
       "                    </tr>\n",
       "                    <tr>\n",
       "                        <td style=\"text-align: left;\">\n",
       "                            <strong>Dashboard: </strong> <a href=\"/user/arthur.laquieze@gmail.com/proxy/44871/status\" target=\"_blank\">/user/arthur.laquieze@gmail.com/proxy/44871/status</a>\n",
       "                        </td>\n",
       "                        <td style=\"text-align: left;\">\n",
       "                            <strong>Memory: </strong> 5.59 GiB\n",
       "                        </td>\n",
       "                    </tr>\n",
       "                    <tr>\n",
       "                        <td style=\"text-align: left;\">\n",
       "                            <strong>Nanny: </strong> tcp://10.80.4.14:44059\n",
       "                        </td>\n",
       "                        <td style=\"text-align: left;\"></td>\n",
       "                    </tr>\n",
       "                    <tr>\n",
       "                        <td colspan=\"2\" style=\"text-align: left;\">\n",
       "                            <strong>Local directory: </strong> /home/jovyan/dask-worker-space/worker-nq8cou5b\n",
       "                        </td>\n",
       "                    </tr>\n",
       "\n",
       "                    \n",
       "\n",
       "                    \n",
       "\n",
       "                </table>\n",
       "            </details>\n",
       "            </div>\n",
       "        </div>\n",
       "        \n",
       "        <div style=\"margin-bottom: 20px;\">\n",
       "            <div style=\"width: 24px; height: 24px; background-color: #DBF5FF; border: 3px solid #4CC9FF; border-radius: 5px; position: absolute;\"> </div>\n",
       "            <div style=\"margin-left: 48px;\">\n",
       "            <details>\n",
       "                <summary>\n",
       "                    <h4 style=\"margin-bottom: 0px; display: inline;\">Worker: 8</h4>\n",
       "                </summary>\n",
       "                <table style=\"width: 100%; text-align: left;\">\n",
       "                    <tr>\n",
       "                        <td style=\"text-align: left;\">\n",
       "                            <strong>Comm: </strong> tcp://10.80.3.15:35113\n",
       "                        </td>\n",
       "                        <td style=\"text-align: left;\">\n",
       "                            <strong>Total threads: </strong> 2\n",
       "                        </td>\n",
       "                    </tr>\n",
       "                    <tr>\n",
       "                        <td style=\"text-align: left;\">\n",
       "                            <strong>Dashboard: </strong> <a href=\"/user/arthur.laquieze@gmail.com/proxy/34817/status\" target=\"_blank\">/user/arthur.laquieze@gmail.com/proxy/34817/status</a>\n",
       "                        </td>\n",
       "                        <td style=\"text-align: left;\">\n",
       "                            <strong>Memory: </strong> 5.59 GiB\n",
       "                        </td>\n",
       "                    </tr>\n",
       "                    <tr>\n",
       "                        <td style=\"text-align: left;\">\n",
       "                            <strong>Nanny: </strong> tcp://10.80.3.15:34635\n",
       "                        </td>\n",
       "                        <td style=\"text-align: left;\"></td>\n",
       "                    </tr>\n",
       "                    <tr>\n",
       "                        <td colspan=\"2\" style=\"text-align: left;\">\n",
       "                            <strong>Local directory: </strong> /home/jovyan/dask-worker-space/worker-10l1jipf\n",
       "                        </td>\n",
       "                    </tr>\n",
       "\n",
       "                    \n",
       "\n",
       "                    \n",
       "\n",
       "                </table>\n",
       "            </details>\n",
       "            </div>\n",
       "        </div>\n",
       "        \n",
       "        <div style=\"margin-bottom: 20px;\">\n",
       "            <div style=\"width: 24px; height: 24px; background-color: #DBF5FF; border: 3px solid #4CC9FF; border-radius: 5px; position: absolute;\"> </div>\n",
       "            <div style=\"margin-left: 48px;\">\n",
       "            <details>\n",
       "                <summary>\n",
       "                    <h4 style=\"margin-bottom: 0px; display: inline;\">Worker: 9</h4>\n",
       "                </summary>\n",
       "                <table style=\"width: 100%; text-align: left;\">\n",
       "                    <tr>\n",
       "                        <td style=\"text-align: left;\">\n",
       "                            <strong>Comm: </strong> tcp://10.80.5.8:33943\n",
       "                        </td>\n",
       "                        <td style=\"text-align: left;\">\n",
       "                            <strong>Total threads: </strong> 2\n",
       "                        </td>\n",
       "                    </tr>\n",
       "                    <tr>\n",
       "                        <td style=\"text-align: left;\">\n",
       "                            <strong>Dashboard: </strong> <a href=\"/user/arthur.laquieze@gmail.com/proxy/42163/status\" target=\"_blank\">/user/arthur.laquieze@gmail.com/proxy/42163/status</a>\n",
       "                        </td>\n",
       "                        <td style=\"text-align: left;\">\n",
       "                            <strong>Memory: </strong> 5.59 GiB\n",
       "                        </td>\n",
       "                    </tr>\n",
       "                    <tr>\n",
       "                        <td style=\"text-align: left;\">\n",
       "                            <strong>Nanny: </strong> tcp://10.80.5.8:40331\n",
       "                        </td>\n",
       "                        <td style=\"text-align: left;\"></td>\n",
       "                    </tr>\n",
       "                    <tr>\n",
       "                        <td colspan=\"2\" style=\"text-align: left;\">\n",
       "                            <strong>Local directory: </strong> /home/jovyan/dask-worker-space/worker-b79xnme1\n",
       "                        </td>\n",
       "                    </tr>\n",
       "\n",
       "                    \n",
       "\n",
       "                    \n",
       "\n",
       "                </table>\n",
       "            </details>\n",
       "            </div>\n",
       "        </div>\n",
       "        \n",
       "\n",
       "    </details>\n",
       "</div>\n",
       "\n",
       "        </details>\n",
       "    </div>\n",
       "</div>\n",
       "            </details>\n",
       "        \n",
       "\n",
       "    </div>\n",
       "</div>"
      ],
      "text/plain": [
       "<Client: 'tcp://10.80.0.28:46475' processes=6 threads=12, memory=33.53 GiB>"
      ]
     },
     "execution_count": 63,
     "metadata": {},
     "output_type": "execute_result"
    }
   ],
   "source": [
    "client.restart()"
   ]
  }
 ],
 "metadata": {
  "kernelspec": {
   "display_name": "Python 3 (ipykernel)",
   "language": "python",
   "name": "python3"
  },
  "language_info": {
   "codemirror_mode": {
    "name": "ipython",
    "version": 3
   },
   "file_extension": ".py",
   "mimetype": "text/x-python",
   "name": "python",
   "nbconvert_exporter": "python",
   "pygments_lexer": "ipython3",
   "version": "3.9.7"
  }
 },
 "nbformat": 4,
 "nbformat_minor": 5
}
